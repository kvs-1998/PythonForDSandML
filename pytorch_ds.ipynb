{
  "nbformat": 4,
  "nbformat_minor": 0,
  "metadata": {
    "colab": {
      "name": "pytorch_ds.ipynb",
      "provenance": [],
      "collapsed_sections": [
        "OcbeyTAYhI-P",
        "1hyONrlghL76",
        "xO5Bw2JJDYNL",
        "wqBWPpRmVXNC"
      ],
      "authorship_tag": "ABX9TyNpsXiiS2iWI6taMk9liie2",
      "include_colab_link": true
    },
    "kernelspec": {
      "name": "python3",
      "display_name": "Python 3"
    },
    "language_info": {
      "name": "python"
    }
  },
  "cells": [
    {
      "cell_type": "markdown",
      "metadata": {
        "id": "view-in-github",
        "colab_type": "text"
      },
      "source": [
        "<a href=\"https://colab.research.google.com/github/kvs1998/PythonForDSandML/blob/main/pytorch_ds.ipynb\" target=\"_parent\"><img src=\"https://colab.research.google.com/assets/colab-badge.svg\" alt=\"Open In Colab\"/></a>"
      ]
    },
    {
      "cell_type": "markdown",
      "source": [
        "## Section 5 "
      ],
      "metadata": {
        "id": "F7PReq4KZM8V"
      }
    },
    {
      "cell_type": "markdown",
      "source": [
        "### Tensor basics 1"
      ],
      "metadata": {
        "id": "OcbeyTAYhI-P"
      }
    },
    {
      "cell_type": "code",
      "execution_count": null,
      "metadata": {
        "id": "Huec_fJtYQxY"
      },
      "outputs": [],
      "source": [
        "import torch\n",
        "import numpy as np"
      ]
    },
    {
      "cell_type": "code",
      "source": [
        "torch.__version__"
      ],
      "metadata": {
        "colab": {
          "base_uri": "https://localhost:8080/"
        },
        "id": "rtP82ILqYd3w",
        "outputId": "3a963d39-68c4-4166-998a-19e6296b9fb5"
      },
      "execution_count": null,
      "outputs": [
        {
          "output_type": "execute_result",
          "data": {
            "application/vnd.google.colaboratory.intrinsic+json": {
              "type": "string"
            },
            "text/plain": [
              "'1.10.0+cu111'"
            ]
          },
          "metadata": {},
          "execution_count": 3
        }
      ]
    },
    {
      "cell_type": "code",
      "source": [
        "arr = np.array([1,2,3,4,5])"
      ],
      "metadata": {
        "id": "iAvESkyIYfhj"
      },
      "execution_count": null,
      "outputs": []
    },
    {
      "cell_type": "code",
      "source": [
        "arr.dtype"
      ],
      "metadata": {
        "colab": {
          "base_uri": "https://localhost:8080/"
        },
        "id": "FOsnvIIIYn8B",
        "outputId": "46f0a1b1-1d74-4975-944f-8675b7e98852"
      },
      "execution_count": null,
      "outputs": [
        {
          "output_type": "execute_result",
          "data": {
            "text/plain": [
              "dtype('int64')"
            ]
          },
          "metadata": {},
          "execution_count": 5
        }
      ]
    },
    {
      "cell_type": "code",
      "source": [
        "type(arr)"
      ],
      "metadata": {
        "colab": {
          "base_uri": "https://localhost:8080/"
        },
        "id": "_swR6QSQYpzk",
        "outputId": "756b1863-87df-4682-9bf6-6c93bc1ff28c"
      },
      "execution_count": null,
      "outputs": [
        {
          "output_type": "execute_result",
          "data": {
            "text/plain": [
              "numpy.ndarray"
            ]
          },
          "metadata": {},
          "execution_count": 6
        }
      ]
    },
    {
      "cell_type": "code",
      "source": [
        "x = torch.from_numpy(arr) #works only on numpy array"
      ],
      "metadata": {
        "id": "h4U4DTTsbSgM"
      },
      "execution_count": null,
      "outputs": []
    },
    {
      "cell_type": "code",
      "source": [
        "x.dtype"
      ],
      "metadata": {
        "colab": {
          "base_uri": "https://localhost:8080/"
        },
        "id": "wTbh6DtObXsS",
        "outputId": "38345eb3-19bd-4c4b-bb7e-8545adabba0f"
      },
      "execution_count": null,
      "outputs": [
        {
          "output_type": "execute_result",
          "data": {
            "text/plain": [
              "torch.int64"
            ]
          },
          "metadata": {},
          "execution_count": 8
        }
      ]
    },
    {
      "cell_type": "code",
      "source": [
        "torch.as_tensor(arr)"
      ],
      "metadata": {
        "colab": {
          "base_uri": "https://localhost:8080/"
        },
        "id": "gy_1L5ilbaMH",
        "outputId": "7b1095e0-1338-4e47-af21-ce25860e9961"
      },
      "execution_count": null,
      "outputs": [
        {
          "output_type": "execute_result",
          "data": {
            "text/plain": [
              "tensor([1, 2, 3, 4, 5])"
            ]
          },
          "metadata": {},
          "execution_count": 9
        }
      ]
    },
    {
      "cell_type": "code",
      "source": [
        "arr2d = np.arange(0.0, 12.0)"
      ],
      "metadata": {
        "id": "YVx1o4EkbgzS"
      },
      "execution_count": null,
      "outputs": []
    },
    {
      "cell_type": "code",
      "source": [
        "arr2d"
      ],
      "metadata": {
        "colab": {
          "base_uri": "https://localhost:8080/"
        },
        "id": "cg4VFCILboyu",
        "outputId": "3f8e98c7-97f1-4696-ff51-aa15b45d4f8b"
      },
      "execution_count": null,
      "outputs": [
        {
          "output_type": "execute_result",
          "data": {
            "text/plain": [
              "array([ 0.,  1.,  2.,  3.,  4.,  5.,  6.,  7.,  8.,  9., 10., 11.])"
            ]
          },
          "metadata": {},
          "execution_count": 11
        }
      ]
    },
    {
      "cell_type": "code",
      "source": [
        "x2 = arr2d.reshape(4,3)\n",
        "x2"
      ],
      "metadata": {
        "colab": {
          "base_uri": "https://localhost:8080/"
        },
        "id": "hXOlbKgHcdnU",
        "outputId": "7032b518-48bd-4959-f5a4-0e37507b6541"
      },
      "execution_count": null,
      "outputs": [
        {
          "output_type": "execute_result",
          "data": {
            "text/plain": [
              "array([[ 0.,  1.,  2.],\n",
              "       [ 3.,  4.,  5.],\n",
              "       [ 6.,  7.,  8.],\n",
              "       [ 9., 10., 11.]])"
            ]
          },
          "metadata": {},
          "execution_count": 12
        }
      ]
    },
    {
      "cell_type": "code",
      "source": [
        "my_arr = np.arange(0,10)"
      ],
      "metadata": {
        "id": "smr9LRF6evYL"
      },
      "execution_count": null,
      "outputs": []
    },
    {
      "cell_type": "code",
      "source": [
        "my_tensor = torch.tensor(my_arr) #creates copy of original tensor"
      ],
      "metadata": {
        "id": "7lOwLeIdch01"
      },
      "execution_count": null,
      "outputs": []
    },
    {
      "cell_type": "code",
      "source": [
        "my_tensor2 = torch.from_numpy(my_arr) "
      ],
      "metadata": {
        "id": "08dBKV2fex7H"
      },
      "execution_count": null,
      "outputs": []
    },
    {
      "cell_type": "code",
      "source": [
        "my_arr[0]=99"
      ],
      "metadata": {
        "id": "TfP5DvoNe2lm"
      },
      "execution_count": null,
      "outputs": []
    },
    {
      "cell_type": "code",
      "source": [
        "my_tensor, my_tensor2"
      ],
      "metadata": {
        "colab": {
          "base_uri": "https://localhost:8080/"
        },
        "id": "_Acw18kFfOP_",
        "outputId": "a0afbd95-a541-455c-ca26-f72b36c53183"
      },
      "execution_count": null,
      "outputs": [
        {
          "output_type": "execute_result",
          "data": {
            "text/plain": [
              "(tensor([0, 1, 2, 3, 4, 5, 6, 7, 8, 9]),\n",
              " tensor([99,  1,  2,  3,  4,  5,  6,  7,  8,  9]))"
            ]
          },
          "metadata": {},
          "execution_count": 17
        }
      ]
    },
    {
      "cell_type": "code",
      "source": [
        ""
      ],
      "metadata": {
        "id": "l4hM64YifQII"
      },
      "execution_count": null,
      "outputs": []
    },
    {
      "cell_type": "markdown",
      "source": [
        "### Tensor basic 2"
      ],
      "metadata": {
        "id": "1hyONrlghL76"
      }
    },
    {
      "cell_type": "code",
      "source": [
        "torch.FloatTensor([1,2,4])"
      ],
      "metadata": {
        "colab": {
          "base_uri": "https://localhost:8080/"
        },
        "id": "hgonXLWChOjm",
        "outputId": "9b74757b-d531-4df4-e0ce-91a24a25b928"
      },
      "execution_count": null,
      "outputs": [
        {
          "output_type": "execute_result",
          "data": {
            "text/plain": [
              "tensor([1., 2., 4.])"
            ]
          },
          "metadata": {},
          "execution_count": 18
        }
      ]
    },
    {
      "cell_type": "code",
      "source": [
        "torch.empty(2,3) #placeholder"
      ],
      "metadata": {
        "colab": {
          "base_uri": "https://localhost:8080/"
        },
        "id": "H2EqysVQh_z8",
        "outputId": "600f93ce-c103-46cf-fb02-6aada3e83805"
      },
      "execution_count": null,
      "outputs": [
        {
          "output_type": "execute_result",
          "data": {
            "text/plain": [
              "tensor([[6.3385e+25, 3.0617e-41, 3.3631e-44],\n",
              "        [0.0000e+00,        nan, 0.0000e+00]])"
            ]
          },
          "metadata": {},
          "execution_count": 19
        }
      ]
    },
    {
      "cell_type": "code",
      "source": [
        "torch.zeros(2,4, dtype=torch.int32)"
      ],
      "metadata": {
        "colab": {
          "base_uri": "https://localhost:8080/"
        },
        "id": "Dj3RvAqliHm0",
        "outputId": "b9498411-e81c-46a2-8ca3-4705ce95a8ab"
      },
      "execution_count": null,
      "outputs": [
        {
          "output_type": "execute_result",
          "data": {
            "text/plain": [
              "tensor([[0, 0, 0, 0],\n",
              "        [0, 0, 0, 0]], dtype=torch.int32)"
            ]
          },
          "metadata": {},
          "execution_count": 20
        }
      ]
    },
    {
      "cell_type": "code",
      "source": [
        "torch.ones(3) #(1,3)"
      ],
      "metadata": {
        "colab": {
          "base_uri": "https://localhost:8080/"
        },
        "id": "ndfGbOtkiLPb",
        "outputId": "cca7a3f9-b6d5-434d-b20b-4d05f4a10a28"
      },
      "execution_count": null,
      "outputs": [
        {
          "output_type": "execute_result",
          "data": {
            "text/plain": [
              "tensor([1., 1., 1.])"
            ]
          },
          "metadata": {},
          "execution_count": 21
        }
      ]
    },
    {
      "cell_type": "code",
      "source": [
        "torch.arange(0,20,2).reshape(2,5)"
      ],
      "metadata": {
        "colab": {
          "base_uri": "https://localhost:8080/"
        },
        "id": "6RVnuLgjjRT-",
        "outputId": "1805e9f6-4ef3-45e9-bc97-217e68d726a7"
      },
      "execution_count": null,
      "outputs": [
        {
          "output_type": "execute_result",
          "data": {
            "text/plain": [
              "tensor([[ 0,  2,  4,  6,  8],\n",
              "        [10, 12, 14, 16, 18]])"
            ]
          },
          "metadata": {},
          "execution_count": 22
        }
      ]
    },
    {
      "cell_type": "code",
      "source": [
        "torch.linspace(0,5,3)"
      ],
      "metadata": {
        "colab": {
          "base_uri": "https://localhost:8080/"
        },
        "id": "PPuMhLQFji38",
        "outputId": "15b42473-d722-4a33-8965-8ce3ac08af8a"
      },
      "execution_count": null,
      "outputs": [
        {
          "output_type": "execute_result",
          "data": {
            "text/plain": [
              "tensor([0.0000, 2.5000, 5.0000])"
            ]
          },
          "metadata": {},
          "execution_count": 23
        }
      ]
    },
    {
      "cell_type": "code",
      "source": [
        " a = torch.tensor([1,2,3])"
      ],
      "metadata": {
        "id": "lMLp4mYJjZlE"
      },
      "execution_count": null,
      "outputs": []
    },
    {
      "cell_type": "code",
      "source": [
        "a = a.type(torch.int32)"
      ],
      "metadata": {
        "id": "M7DPQEFCkTr2"
      },
      "execution_count": null,
      "outputs": []
    },
    {
      "cell_type": "code",
      "source": [
        "a.shape"
      ],
      "metadata": {
        "id": "9NNQYyjEkbZR",
        "colab": {
          "base_uri": "https://localhost:8080/"
        },
        "outputId": "b815aed8-9534-41f1-9865-b579e976596f"
      },
      "execution_count": null,
      "outputs": [
        {
          "output_type": "execute_result",
          "data": {
            "text/plain": [
              "torch.Size([3])"
            ]
          },
          "metadata": {},
          "execution_count": 26
        }
      ]
    },
    {
      "cell_type": "code",
      "source": [
        "x = torch.zeros(2,5)"
      ],
      "metadata": {
        "id": "1JdCl3qSAE0p"
      },
      "execution_count": null,
      "outputs": []
    },
    {
      "cell_type": "code",
      "source": [
        "torch.rand_like(x) #between 0 and 1 (uniform distribution)"
      ],
      "metadata": {
        "colab": {
          "base_uri": "https://localhost:8080/"
        },
        "id": "NDDFuftj_s53",
        "outputId": "3629508c-2443-4ef7-d790-2a75ffeff3be"
      },
      "execution_count": null,
      "outputs": [
        {
          "output_type": "execute_result",
          "data": {
            "text/plain": [
              "tensor([[0.2379, 0.4011, 0.5317, 0.2884, 0.1266],\n",
              "        [0.5808, 0.9911, 0.9332, 0.7632, 0.6566]])"
            ]
          },
          "metadata": {},
          "execution_count": 36
        }
      ]
    },
    {
      "cell_type": "code",
      "source": [
        "torch.randn_like(x) #standard normal distribution"
      ],
      "metadata": {
        "colab": {
          "base_uri": "https://localhost:8080/"
        },
        "id": "u1DOMMJdAOu-",
        "outputId": "1e355e13-1709-47f9-ba3e-60f59c9073ea"
      },
      "execution_count": null,
      "outputs": [
        {
          "output_type": "execute_result",
          "data": {
            "text/plain": [
              "tensor([[ 0.8887, -1.9612,  0.2208,  0.2689,  1.8441],\n",
              "        [-0.6368, -0.0666,  0.6781, -1.4909, -1.3471]])"
            ]
          },
          "metadata": {},
          "execution_count": 37
        }
      ]
    },
    {
      "cell_type": "code",
      "source": [
        "torch.randint_like(x, 0, 11)"
      ],
      "metadata": {
        "colab": {
          "base_uri": "https://localhost:8080/"
        },
        "id": "eceE4f-jAQmF",
        "outputId": "52ab833a-3400-4db0-99f5-22c9ab717bbd"
      },
      "execution_count": null,
      "outputs": [
        {
          "output_type": "execute_result",
          "data": {
            "text/plain": [
              "tensor([[ 5.,  8., 10.,  7.,  9.],\n",
              "        [ 7.,  9.,  2.,  6.,  3.]])"
            ]
          },
          "metadata": {},
          "execution_count": 38
        }
      ]
    },
    {
      "cell_type": "code",
      "source": [
        "torch.manual_seed(3) #has to be in same cell for same results\n",
        "torch.rand(2,3)"
      ],
      "metadata": {
        "colab": {
          "base_uri": "https://localhost:8080/"
        },
        "id": "DLUqaCrqBHAn",
        "outputId": "bb0f6868-f7d9-4e3b-e9d7-7817baaa7ca3"
      },
      "execution_count": null,
      "outputs": [
        {
          "output_type": "execute_result",
          "data": {
            "text/plain": [
              "tensor([[0.0043, 0.1056, 0.2858],\n",
              "        [0.0270, 0.4716, 0.0601]])"
            ]
          },
          "metadata": {},
          "execution_count": 45
        }
      ]
    },
    {
      "cell_type": "markdown",
      "source": [
        "### Tensor Operations"
      ],
      "metadata": {
        "id": "xO5Bw2JJDYNL"
      }
    },
    {
      "cell_type": "code",
      "source": [
        "x = torch.arange(6).reshape(3,2)\n",
        "x"
      ],
      "metadata": {
        "colab": {
          "base_uri": "https://localhost:8080/"
        },
        "id": "W2PU_S4HBS4T",
        "outputId": "48298982-290a-4fa2-d4d2-3ba3b420805e"
      },
      "execution_count": null,
      "outputs": [
        {
          "output_type": "execute_result",
          "data": {
            "text/plain": [
              "tensor([[0, 1],\n",
              "        [2, 3],\n",
              "        [4, 5]])"
            ]
          },
          "metadata": {},
          "execution_count": 47
        }
      ]
    },
    {
      "cell_type": "code",
      "source": [
        "x[1][1], x[1,1] #still returns tensor"
      ],
      "metadata": {
        "colab": {
          "base_uri": "https://localhost:8080/"
        },
        "id": "Z-7eC3zGDe0d",
        "outputId": "b16b9b9c-779a-405a-f450-0d59fa56081e"
      },
      "execution_count": null,
      "outputs": [
        {
          "output_type": "execute_result",
          "data": {
            "text/plain": [
              "(tensor(3), tensor(3))"
            ]
          },
          "metadata": {},
          "execution_count": 49
        }
      ]
    },
    {
      "cell_type": "code",
      "source": [
        "x[:,1] #all rows but only first column"
      ],
      "metadata": {
        "colab": {
          "base_uri": "https://localhost:8080/"
        },
        "id": "3Ca65qDEDj95",
        "outputId": "06fea988-3ec1-46f2-f87e-24f48aa6215f"
      },
      "execution_count": null,
      "outputs": [
        {
          "output_type": "execute_result",
          "data": {
            "text/plain": [
              "tensor([1, 3, 5])"
            ]
          },
          "metadata": {},
          "execution_count": 50
        }
      ]
    },
    {
      "cell_type": "code",
      "source": [
        "x[:,1:]"
      ],
      "metadata": {
        "colab": {
          "base_uri": "https://localhost:8080/"
        },
        "id": "3UWVJmJdDsG1",
        "outputId": "67d1bdf2-88e7-4c26-804c-e86fab373e02"
      },
      "execution_count": null,
      "outputs": [
        {
          "output_type": "execute_result",
          "data": {
            "text/plain": [
              "tensor([[1],\n",
              "        [3],\n",
              "        [5]])"
            ]
          },
          "metadata": {},
          "execution_count": 51
        }
      ]
    },
    {
      "cell_type": "code",
      "source": [
        "x=torch.arange(10)\n",
        "x"
      ],
      "metadata": {
        "colab": {
          "base_uri": "https://localhost:8080/"
        },
        "id": "dLsu5LgDD3JN",
        "outputId": "e47a417c-d462-4a72-d8c7-dae338c0c290"
      },
      "execution_count": null,
      "outputs": [
        {
          "output_type": "execute_result",
          "data": {
            "text/plain": [
              "tensor([0, 1, 2, 3, 4, 5, 6, 7, 8, 9])"
            ]
          },
          "metadata": {},
          "execution_count": 52
        }
      ]
    },
    {
      "cell_type": "code",
      "source": [
        "x.view(2,5) #doesnt reshape"
      ],
      "metadata": {
        "colab": {
          "base_uri": "https://localhost:8080/"
        },
        "id": "g4ngEzHAEEWf",
        "outputId": "00eb9b0f-1836-4132-dd07-524438c90a57"
      },
      "execution_count": null,
      "outputs": [
        {
          "output_type": "execute_result",
          "data": {
            "text/plain": [
              "tensor([[0, 1, 2, 3, 4],\n",
              "        [5, 6, 7, 8, 9]])"
            ]
          },
          "metadata": {},
          "execution_count": 53
        }
      ]
    },
    {
      "cell_type": "code",
      "source": [
        "x"
      ],
      "metadata": {
        "colab": {
          "base_uri": "https://localhost:8080/"
        },
        "id": "65yoGfEOEFuf",
        "outputId": "20b919aa-c399-44db-f8d8-41b61f8308b9"
      },
      "execution_count": null,
      "outputs": [
        {
          "output_type": "execute_result",
          "data": {
            "text/plain": [
              "tensor([0, 1, 2, 3, 4, 5, 6, 7, 8, 9])"
            ]
          },
          "metadata": {},
          "execution_count": 54
        }
      ]
    },
    {
      "cell_type": "code",
      "source": [
        "x = torch.arange(10)\n",
        "x.shape"
      ],
      "metadata": {
        "colab": {
          "base_uri": "https://localhost:8080/"
        },
        "id": "w41FQOQQEHMF",
        "outputId": "32d50e65-c228-4608-a266-e4e99da99778"
      },
      "execution_count": null,
      "outputs": [
        {
          "output_type": "execute_result",
          "data": {
            "text/plain": [
              "torch.Size([10])"
            ]
          },
          "metadata": {},
          "execution_count": 55
        }
      ]
    },
    {
      "cell_type": "code",
      "source": [
        "z = x.view(2,5)\n",
        "z"
      ],
      "metadata": {
        "colab": {
          "base_uri": "https://localhost:8080/"
        },
        "id": "wrP6nb2PEn3P",
        "outputId": "f7c2c57e-3b84-49d4-a468-e9908cadc76b"
      },
      "execution_count": null,
      "outputs": [
        {
          "output_type": "execute_result",
          "data": {
            "text/plain": [
              "tensor([[0, 1, 2, 3, 4],\n",
              "        [5, 6, 7, 8, 9]])"
            ]
          },
          "metadata": {},
          "execution_count": 56
        }
      ]
    },
    {
      "cell_type": "code",
      "source": [
        "x[0]=999"
      ],
      "metadata": {
        "id": "P_C_19mzEvVM"
      },
      "execution_count": null,
      "outputs": []
    },
    {
      "cell_type": "code",
      "source": [
        "x, z #even z has changed"
      ],
      "metadata": {
        "colab": {
          "base_uri": "https://localhost:8080/"
        },
        "id": "G57RzMjPEzTC",
        "outputId": "537bc34d-ea59-42c0-a654-1f0d1ec35a70"
      },
      "execution_count": null,
      "outputs": [
        {
          "output_type": "execute_result",
          "data": {
            "text/plain": [
              "(tensor([999,   1,   2,   3,   4,   5,   6,   7,   8,   9]),\n",
              " tensor([[999,   1,   2,   3,   4],\n",
              "         [  5,   6,   7,   8,   9]]))"
            ]
          },
          "metadata": {},
          "execution_count": 58
        }
      ]
    },
    {
      "cell_type": "code",
      "source": [
        "x.view(2, -1) #-1 means infer whats the 2nd dimension"
      ],
      "metadata": {
        "colab": {
          "base_uri": "https://localhost:8080/"
        },
        "id": "pF_JyyofE0K-",
        "outputId": "f2c005cb-424a-4828-e785-2a6b66117a6e"
      },
      "execution_count": null,
      "outputs": [
        {
          "output_type": "execute_result",
          "data": {
            "text/plain": [
              "tensor([[999,   1,   2,   3,   4],\n",
              "        [  5,   6,   7,   8,   9]])"
            ]
          },
          "metadata": {},
          "execution_count": 59
        }
      ]
    },
    {
      "cell_type": "code",
      "source": [
        "a = torch.arange(4)\n",
        "b = torch.arange(4)\n",
        "a+b"
      ],
      "metadata": {
        "colab": {
          "base_uri": "https://localhost:8080/"
        },
        "id": "S359bW3OFGa-",
        "outputId": "f2e828fc-f640-4dfc-fddc-9574e672d631"
      },
      "execution_count": null,
      "outputs": [
        {
          "output_type": "execute_result",
          "data": {
            "text/plain": [
              "tensor([0, 2, 4, 6])"
            ]
          },
          "metadata": {},
          "execution_count": 60
        }
      ]
    },
    {
      "cell_type": "code",
      "source": [
        "torch.add(a,b)"
      ],
      "metadata": {
        "colab": {
          "base_uri": "https://localhost:8080/"
        },
        "id": "0mrB3AhoFtXG",
        "outputId": "42c2fe95-5cd3-4b82-e05a-8dc1303a432c"
      },
      "execution_count": null,
      "outputs": [
        {
          "output_type": "execute_result",
          "data": {
            "text/plain": [
              "tensor([0, 2, 4, 6])"
            ]
          },
          "metadata": {},
          "execution_count": 61
        }
      ]
    },
    {
      "cell_type": "code",
      "source": [
        "a.add_(b) #a = a+b"
      ],
      "metadata": {
        "colab": {
          "base_uri": "https://localhost:8080/"
        },
        "id": "p82mogFIFvuP",
        "outputId": "159b379c-2168-4976-bde5-1ba0cd95d8c3"
      },
      "execution_count": null,
      "outputs": [
        {
          "output_type": "execute_result",
          "data": {
            "text/plain": [
              "tensor([0, 2, 4, 6])"
            ]
          },
          "metadata": {},
          "execution_count": 62
        }
      ]
    },
    {
      "cell_type": "code",
      "source": [
        "a.add(b),a ,b"
      ],
      "metadata": {
        "colab": {
          "base_uri": "https://localhost:8080/"
        },
        "id": "aylfLVn0GCaD",
        "outputId": "ada42642-39ec-4ccf-be58-7b560b32d4a9"
      },
      "execution_count": null,
      "outputs": [
        {
          "output_type": "execute_result",
          "data": {
            "text/plain": [
              "(tensor([0, 3, 6, 9]), tensor([0, 2, 4, 6]), tensor([0, 1, 2, 3]))"
            ]
          },
          "metadata": {},
          "execution_count": 64
        }
      ]
    },
    {
      "cell_type": "code",
      "source": [
        ""
      ],
      "metadata": {
        "id": "UF1sTF1iGHB7"
      },
      "execution_count": null,
      "outputs": []
    },
    {
      "cell_type": "markdown",
      "source": [
        "### Tensor Opertions 2"
      ],
      "metadata": {
        "id": "wqBWPpRmVXNC"
      }
    },
    {
      "cell_type": "code",
      "source": [
        "a=torch.arange(3)\n",
        "b=torch.arange(3)\n",
        "a,b"
      ],
      "metadata": {
        "colab": {
          "base_uri": "https://localhost:8080/"
        },
        "id": "HoiTh_e6VY4W",
        "outputId": "2a2b1f80-346f-468c-fc6a-5be9c653c804"
      },
      "execution_count": null,
      "outputs": [
        {
          "output_type": "execute_result",
          "data": {
            "text/plain": [
              "(tensor([0, 1, 2]), tensor([0, 1, 2]))"
            ]
          },
          "metadata": {},
          "execution_count": 65
        }
      ]
    },
    {
      "cell_type": "code",
      "source": [
        "a.mul(b)"
      ],
      "metadata": {
        "colab": {
          "base_uri": "https://localhost:8080/"
        },
        "id": "2MDwO1C6W0be",
        "outputId": "e6165649-4e8e-4f7d-8f29-1e080a54f197"
      },
      "execution_count": null,
      "outputs": [
        {
          "output_type": "execute_result",
          "data": {
            "text/plain": [
              "tensor([0, 1, 4])"
            ]
          },
          "metadata": {},
          "execution_count": 66
        }
      ]
    },
    {
      "cell_type": "code",
      "source": [
        "a.dot(b)"
      ],
      "metadata": {
        "colab": {
          "base_uri": "https://localhost:8080/"
        },
        "id": "DcZ8BUs5W14v",
        "outputId": "27a07a55-05f0-4839-c1ae-be885a409b57"
      },
      "execution_count": null,
      "outputs": [
        {
          "output_type": "execute_result",
          "data": {
            "text/plain": [
              "tensor(5)"
            ]
          },
          "metadata": {},
          "execution_count": 67
        }
      ]
    },
    {
      "cell_type": "code",
      "source": [
        "a=torch.tensor([[0,2,4], [1,3,5]])\n",
        "b=torch.tensor([[1,2],[3,4], [5,6]])\n",
        "print(a,'\\n',b)"
      ],
      "metadata": {
        "colab": {
          "base_uri": "https://localhost:8080/"
        },
        "id": "PAoMrO4vW2tW",
        "outputId": "e9a4b4d6-1d5a-4954-8c9b-549121814c06"
      },
      "execution_count": null,
      "outputs": [
        {
          "output_type": "stream",
          "name": "stdout",
          "text": [
            "tensor([[0, 2, 4],\n",
            "        [1, 3, 5]]) \n",
            " tensor([[1, 2],\n",
            "        [3, 4],\n",
            "        [5, 6]])\n"
          ]
        }
      ]
    },
    {
      "cell_type": "code",
      "source": [
        "a.shape, b.shape"
      ],
      "metadata": {
        "colab": {
          "base_uri": "https://localhost:8080/"
        },
        "id": "FyXZ895_X0YK",
        "outputId": "0e5916db-7da8-4b14-b36f-0c55e1631891"
      },
      "execution_count": null,
      "outputs": [
        {
          "output_type": "execute_result",
          "data": {
            "text/plain": [
              "(torch.Size([2, 3]), torch.Size([3, 2]))"
            ]
          },
          "metadata": {},
          "execution_count": 69
        }
      ]
    },
    {
      "cell_type": "code",
      "source": [
        "torch.mm(a,b) #matrix multiplication"
      ],
      "metadata": {
        "colab": {
          "base_uri": "https://localhost:8080/"
        },
        "id": "HzyE99mVX1u1",
        "outputId": "daa8d929-305e-487a-b7e1-8a5b3ddb7c9a"
      },
      "execution_count": null,
      "outputs": [
        {
          "output_type": "execute_result",
          "data": {
            "text/plain": [
              "tensor([[26, 32],\n",
              "        [35, 44]])"
            ]
          },
          "metadata": {},
          "execution_count": 73
        }
      ]
    },
    {
      "cell_type": "code",
      "source": [
        "a @ b "
      ],
      "metadata": {
        "colab": {
          "base_uri": "https://localhost:8080/"
        },
        "id": "m5VgKeYTYBJ5",
        "outputId": "d3ef8116-66ca-44ac-8bf2-a9327eeff8e3"
      },
      "execution_count": null,
      "outputs": [
        {
          "output_type": "execute_result",
          "data": {
            "text/plain": [
              "tensor([[26, 32],\n",
              "        [35, 44]])"
            ]
          },
          "metadata": {},
          "execution_count": 74
        }
      ]
    },
    {
      "cell_type": "code",
      "source": [
        "#Euclidian norm is like magnitude of vector\n",
        "x=torch.tensor([1.,2.,3.,4.])\n",
        "x.norm()"
      ],
      "metadata": {
        "colab": {
          "base_uri": "https://localhost:8080/"
        },
        "id": "vsvVXJghYH1c",
        "outputId": "7f1ae78d-bf5b-4c96-fa31-dc74e77ec174"
      },
      "execution_count": null,
      "outputs": [
        {
          "output_type": "execute_result",
          "data": {
            "text/plain": [
              "tensor(5.4772)"
            ]
          },
          "metadata": {},
          "execution_count": 76
        }
      ]
    },
    {
      "cell_type": "code",
      "source": [
        "x.numel()"
      ],
      "metadata": {
        "colab": {
          "base_uri": "https://localhost:8080/"
        },
        "id": "pBnGf6CkYfrY",
        "outputId": "4d46f9c6-c1eb-49ae-9d53-17fc33275c87"
      },
      "execution_count": null,
      "outputs": [
        {
          "output_type": "execute_result",
          "data": {
            "text/plain": [
              "4"
            ]
          },
          "metadata": {},
          "execution_count": 77
        }
      ]
    },
    {
      "cell_type": "code",
      "source": [
        "len(x) #len of 2d matrix is number of rows"
      ],
      "metadata": {
        "colab": {
          "base_uri": "https://localhost:8080/"
        },
        "id": "XyW9hkquYlwp",
        "outputId": "0220243a-c6f1-4647-dfc0-6a54f1e80ea7"
      },
      "execution_count": null,
      "outputs": [
        {
          "output_type": "execute_result",
          "data": {
            "text/plain": [
              "4"
            ]
          },
          "metadata": {},
          "execution_count": 78
        }
      ]
    },
    {
      "cell_type": "code",
      "source": [
        ""
      ],
      "metadata": {
        "id": "X4ZvE_l_Yyiz"
      },
      "execution_count": null,
      "outputs": []
    },
    {
      "cell_type": "markdown",
      "source": [
        "## Section 7"
      ],
      "metadata": {
        "id": "zYeFRKowZWUk"
      }
    },
    {
      "cell_type": "code",
      "source": [
        "import torch"
      ],
      "metadata": {
        "id": "Zx8xpEFBZXrE"
      },
      "execution_count": 1,
      "outputs": []
    },
    {
      "cell_type": "code",
      "source": [
        "x = torch.tensor(2.0, requires_grad = True) #pytorch now keeps an eye on this tensor \n",
        "#DEFINED AS 2"
      ],
      "metadata": {
        "id": "davUGpdnHIRr"
      },
      "execution_count": 2,
      "outputs": []
    },
    {
      "cell_type": "code",
      "source": [
        "y = 2*x**4 + x**3 + 3*x**2 + 5*x + 1"
      ],
      "metadata": {
        "id": "rNZGWX2oHpsT"
      },
      "execution_count": 3,
      "outputs": []
    },
    {
      "cell_type": "code",
      "source": [
        "#7*2**2 = 7*4\n",
        "print(y) #it has a gradient function"
      ],
      "metadata": {
        "colab": {
          "base_uri": "https://localhost:8080/"
        },
        "id": "4gm4GSD8H1zS",
        "outputId": "4cf86b58-49f5-40b1-e886-f2f769dd0993"
      },
      "execution_count": 4,
      "outputs": [
        {
          "output_type": "stream",
          "name": "stdout",
          "text": [
            "tensor(63., grad_fn=<AddBackward0>)\n"
          ]
        }
      ]
    },
    {
      "cell_type": "code",
      "source": [
        "type(y)"
      ],
      "metadata": {
        "colab": {
          "base_uri": "https://localhost:8080/"
        },
        "id": "-CGkKiTmH7de",
        "outputId": "4b56cfdd-d772-4e74-894d-e01ddda57e1e"
      },
      "execution_count": 5,
      "outputs": [
        {
          "output_type": "execute_result",
          "data": {
            "text/plain": [
              "torch.Tensor"
            ]
          },
          "metadata": {},
          "execution_count": 5
        }
      ]
    },
    {
      "cell_type": "code",
      "source": [
        "y.backward() #dy/dx"
      ],
      "metadata": {
        "id": "7OSSVNCSIKvW"
      },
      "execution_count": 6,
      "outputs": []
    },
    {
      "cell_type": "code",
      "source": [
        "x.grad #y=93 when x=2\n",
        "#x is originally defined as 2"
      ],
      "metadata": {
        "colab": {
          "base_uri": "https://localhost:8080/"
        },
        "id": "V1nI4og0IOSC",
        "outputId": "9de4a41c-2b4f-4d81-fb26-26e692eb89b3"
      },
      "execution_count": 7,
      "outputs": [
        {
          "output_type": "execute_result",
          "data": {
            "text/plain": [
              "tensor(93.)"
            ]
          },
          "metadata": {},
          "execution_count": 7
        }
      ]
    },
    {
      "cell_type": "code",
      "source": [
        "x = torch.tensor([[1.,2.,3.],[3.,2.,1.]], requires_grad=True)"
      ],
      "metadata": {
        "id": "odn4RpQnIP4l"
      },
      "execution_count": 8,
      "outputs": []
    },
    {
      "cell_type": "code",
      "source": [
        "print(x)"
      ],
      "metadata": {
        "colab": {
          "base_uri": "https://localhost:8080/"
        },
        "id": "rhVieutVI-ln",
        "outputId": "9f0c6763-8d04-4476-c561-3ad6b84d61ab"
      },
      "execution_count": 9,
      "outputs": [
        {
          "output_type": "stream",
          "name": "stdout",
          "text": [
            "tensor([[1., 2., 3.],\n",
            "        [3., 2., 1.]], requires_grad=True)\n"
          ]
        }
      ]
    },
    {
      "cell_type": "code",
      "source": [
        "y = 3*x + 2"
      ],
      "metadata": {
        "id": "1yaOY2MLJBAX"
      },
      "execution_count": 10,
      "outputs": []
    },
    {
      "cell_type": "code",
      "source": [
        "print(y)"
      ],
      "metadata": {
        "colab": {
          "base_uri": "https://localhost:8080/"
        },
        "id": "Q3eI0dS2JERU",
        "outputId": "aa76fa66-5fda-48f1-da7a-2ce2ec7d179c"
      },
      "execution_count": 11,
      "outputs": [
        {
          "output_type": "stream",
          "name": "stdout",
          "text": [
            "tensor([[ 5.,  8., 11.],\n",
            "        [11.,  8.,  5.]], grad_fn=<AddBackward0>)\n"
          ]
        }
      ]
    },
    {
      "cell_type": "code",
      "source": [
        "z = 2*y**2"
      ],
      "metadata": {
        "id": "IhoZzykbJFsc"
      },
      "execution_count": 12,
      "outputs": []
    },
    {
      "cell_type": "code",
      "source": [
        "print(z)"
      ],
      "metadata": {
        "colab": {
          "base_uri": "https://localhost:8080/"
        },
        "id": "wi3leMlYJL5O",
        "outputId": "ba19f0fc-06ee-4062-a92d-24cc0b12c8e5"
      },
      "execution_count": 13,
      "outputs": [
        {
          "output_type": "stream",
          "name": "stdout",
          "text": [
            "tensor([[ 50., 128., 242.],\n",
            "        [242., 128.,  50.]], grad_fn=<MulBackward0>)\n"
          ]
        }
      ]
    },
    {
      "cell_type": "code",
      "source": [
        "out = z.mean()"
      ],
      "metadata": {
        "id": "ANLqJHNXJMyN"
      },
      "execution_count": 14,
      "outputs": []
    },
    {
      "cell_type": "code",
      "source": [
        "print(out)"
      ],
      "metadata": {
        "colab": {
          "base_uri": "https://localhost:8080/"
        },
        "id": "6fkbXZUOJXtR",
        "outputId": "be53fb44-6a3e-42d5-c9f1-ccb8a976d62c"
      },
      "execution_count": 15,
      "outputs": [
        {
          "output_type": "stream",
          "name": "stdout",
          "text": [
            "tensor(140., grad_fn=<MeanBackward0>)\n"
          ]
        }
      ]
    },
    {
      "cell_type": "code",
      "source": [
        "out.backward()"
      ],
      "metadata": {
        "id": "OWc1at9_JYvI"
      },
      "execution_count": 16,
      "outputs": []
    },
    {
      "cell_type": "code",
      "source": [
        "print(x.grad)"
      ],
      "metadata": {
        "colab": {
          "base_uri": "https://localhost:8080/"
        },
        "id": "jFlaw-FKJkIQ",
        "outputId": "4917192b-6732-4bff-d945-1d21d52ce35e"
      },
      "execution_count": 17,
      "outputs": [
        {
          "output_type": "stream",
          "name": "stdout",
          "text": [
            "tensor([[10., 16., 22.],\n",
            "        [22., 16., 10.]])\n"
          ]
        }
      ]
    },
    {
      "cell_type": "code",
      "source": [
        "import numpy as np\n",
        "import matplotlib.pyplot as plt\n",
        "import torch.nn as nn"
      ],
      "metadata": {
        "id": "c6g761IjLPUL"
      },
      "execution_count": 18,
      "outputs": []
    },
    {
      "cell_type": "code",
      "source": [
        "X = torch.linspace(1, 50, 50).reshape(-1,1) #-1 is for column of values"
      ],
      "metadata": {
        "id": "H36ev0daUFKn"
      },
      "execution_count": 19,
      "outputs": []
    },
    {
      "cell_type": "code",
      "source": [
        "X"
      ],
      "metadata": {
        "colab": {
          "base_uri": "https://localhost:8080/"
        },
        "id": "Du6hyl8hULhR",
        "outputId": "1f5d920a-b322-4962-ef85-f62b23461dc0"
      },
      "execution_count": 20,
      "outputs": [
        {
          "output_type": "execute_result",
          "data": {
            "text/plain": [
              "tensor([[ 1.],\n",
              "        [ 2.],\n",
              "        [ 3.],\n",
              "        [ 4.],\n",
              "        [ 5.],\n",
              "        [ 6.],\n",
              "        [ 7.],\n",
              "        [ 8.],\n",
              "        [ 9.],\n",
              "        [10.],\n",
              "        [11.],\n",
              "        [12.],\n",
              "        [13.],\n",
              "        [14.],\n",
              "        [15.],\n",
              "        [16.],\n",
              "        [17.],\n",
              "        [18.],\n",
              "        [19.],\n",
              "        [20.],\n",
              "        [21.],\n",
              "        [22.],\n",
              "        [23.],\n",
              "        [24.],\n",
              "        [25.],\n",
              "        [26.],\n",
              "        [27.],\n",
              "        [28.],\n",
              "        [29.],\n",
              "        [30.],\n",
              "        [31.],\n",
              "        [32.],\n",
              "        [33.],\n",
              "        [34.],\n",
              "        [35.],\n",
              "        [36.],\n",
              "        [37.],\n",
              "        [38.],\n",
              "        [39.],\n",
              "        [40.],\n",
              "        [41.],\n",
              "        [42.],\n",
              "        [43.],\n",
              "        [44.],\n",
              "        [45.],\n",
              "        [46.],\n",
              "        [47.],\n",
              "        [48.],\n",
              "        [49.],\n",
              "        [50.]])"
            ]
          },
          "metadata": {},
          "execution_count": 20
        }
      ]
    },
    {
      "cell_type": "code",
      "source": [
        "#random array of error values\n",
        "torch.manual_seed(71)"
      ],
      "metadata": {
        "colab": {
          "base_uri": "https://localhost:8080/"
        },
        "id": "E0s7MUYbUOso",
        "outputId": "b2f86cc5-e774-4646-82c7-dbcea0f14b63"
      },
      "execution_count": 21,
      "outputs": [
        {
          "output_type": "execute_result",
          "data": {
            "text/plain": [
              "<torch._C.Generator at 0x7f7810d70070>"
            ]
          },
          "metadata": {},
          "execution_count": 21
        }
      ]
    },
    {
      "cell_type": "code",
      "source": [
        "e = torch.randint(-8, 9, (50,1), dtype=torch.float)"
      ],
      "metadata": {
        "id": "4_XLJy4AUZNd"
      },
      "execution_count": 22,
      "outputs": []
    },
    {
      "cell_type": "code",
      "source": [
        "e"
      ],
      "metadata": {
        "colab": {
          "base_uri": "https://localhost:8080/"
        },
        "id": "ws87jjSXUicR",
        "outputId": "49732d7f-0480-4e48-b497-841876d98255"
      },
      "execution_count": 23,
      "outputs": [
        {
          "output_type": "execute_result",
          "data": {
            "text/plain": [
              "tensor([[ 2.],\n",
              "        [ 7.],\n",
              "        [ 2.],\n",
              "        [ 6.],\n",
              "        [ 2.],\n",
              "        [-4.],\n",
              "        [ 2.],\n",
              "        [-5.],\n",
              "        [ 4.],\n",
              "        [ 1.],\n",
              "        [ 2.],\n",
              "        [ 3.],\n",
              "        [ 1.],\n",
              "        [-8.],\n",
              "        [ 5.],\n",
              "        [ 5.],\n",
              "        [-6.],\n",
              "        [ 0.],\n",
              "        [-7.],\n",
              "        [-8.],\n",
              "        [-3.],\n",
              "        [-1.],\n",
              "        [ 2.],\n",
              "        [-6.],\n",
              "        [-3.],\n",
              "        [ 3.],\n",
              "        [ 2.],\n",
              "        [ 3.],\n",
              "        [ 4.],\n",
              "        [ 5.],\n",
              "        [ 1.],\n",
              "        [ 7.],\n",
              "        [ 6.],\n",
              "        [-1.],\n",
              "        [-6.],\n",
              "        [-5.],\n",
              "        [-3.],\n",
              "        [ 7.],\n",
              "        [ 0.],\n",
              "        [ 8.],\n",
              "        [-1.],\n",
              "        [-2.],\n",
              "        [ 2.],\n",
              "        [-8.],\n",
              "        [-1.],\n",
              "        [ 6.],\n",
              "        [-8.],\n",
              "        [-3.],\n",
              "        [-7.],\n",
              "        [-2.]])"
            ]
          },
          "metadata": {},
          "execution_count": 23
        }
      ]
    },
    {
      "cell_type": "code",
      "source": [
        "y = 2*X+1+e #adding noise"
      ],
      "metadata": {
        "id": "taKe9IHyUjut"
      },
      "execution_count": 24,
      "outputs": []
    },
    {
      "cell_type": "code",
      "source": [
        "y.shape"
      ],
      "metadata": {
        "colab": {
          "base_uri": "https://localhost:8080/"
        },
        "id": "X3JtvnSoU6QP",
        "outputId": "9936e83f-5eae-4224-d488-9fb9dbe15f0e"
      },
      "execution_count": 25,
      "outputs": [
        {
          "output_type": "execute_result",
          "data": {
            "text/plain": [
              "torch.Size([50, 1])"
            ]
          },
          "metadata": {},
          "execution_count": 25
        }
      ]
    },
    {
      "cell_type": "code",
      "source": [
        "#convert to numpy to plot\n",
        "plt.scatter(X.numpy(), y.numpy())"
      ],
      "metadata": {
        "colab": {
          "base_uri": "https://localhost:8080/",
          "height": 283
        },
        "id": "oNjVohjfU_Th",
        "outputId": "993eca15-3596-4a4c-cdab-5ca7af2cbbaa"
      },
      "execution_count": 26,
      "outputs": [
        {
          "output_type": "execute_result",
          "data": {
            "text/plain": [
              "<matplotlib.collections.PathCollection at 0x7f780fe867d0>"
            ]
          },
          "metadata": {},
          "execution_count": 26
        },
        {
          "output_type": "display_data",
          "data": {
            "image/png": "[encoded data removed]",
            "text/plain": [
              "<Figure size 432x288 with 1 Axes>"
            ]
          },
          "metadata": {
            "needs_background": "light"
          }
        }
      ]
    },
    {
      "cell_type": "code",
      "source": [
        "torch.manual_seed(59)\n",
        "model = nn.Linear(in_features=1, out_features=1)\n",
        "print(model.weight,\"\\n\",model.bias)"
      ],
      "metadata": {
        "colab": {
          "base_uri": "https://localhost:8080/"
        },
        "id": "Ya7qqaArVgQF",
        "outputId": "a60c4373-cb6c-4c7d-e420-f3ee18b15db9"
      },
      "execution_count": 27,
      "outputs": [
        {
          "output_type": "stream",
          "name": "stdout",
          "text": [
            "Parameter containing:\n",
            "tensor([[0.1060]], requires_grad=True) \n",
            " Parameter containing:\n",
            "tensor([0.9638], requires_grad=True)\n"
          ]
        }
      ]
    },
    {
      "cell_type": "code",
      "source": [
        "class Model(nn.Module):\n",
        "  def __init__(self, in_features, out_features):\n",
        "    super().__init__()\n",
        "    self.linear = nn.Linear(in_features, out_features)\n",
        "  def forward(self, x):\n",
        "    y_pred = self.linear(x)\n",
        "    return y_pred"
      ],
      "metadata": {
        "id": "rQeSLPkxVjT7"
      },
      "execution_count": 35,
      "outputs": []
    },
    {
      "cell_type": "code",
      "source": [
        "torch.manual_seed(59)\n",
        "model = Model(1,1)\n",
        "print(model.linear.weight,\"\\n\", model.linear.bias)"
      ],
      "metadata": {
        "colab": {
          "base_uri": "https://localhost:8080/"
        },
        "id": "EBlzVziDh6tR",
        "outputId": "50cdd406-45eb-4478-dfd8-a2eeb6575c36"
      },
      "execution_count": 36,
      "outputs": [
        {
          "output_type": "stream",
          "name": "stdout",
          "text": [
            "Parameter containing:\n",
            "tensor([[0.1060]], requires_grad=True) \n",
            " Parameter containing:\n",
            "tensor([0.9638], requires_grad=True)\n"
          ]
        }
      ]
    },
    {
      "cell_type": "code",
      "source": [
        "for name, param in model.named_parameters(): #named_parameter comes coz of nn.Module\n",
        "  print(name,'\\t',param.item())"
      ],
      "metadata": {
        "colab": {
          "base_uri": "https://localhost:8080/"
        },
        "id": "i8M5pb4xh9yM",
        "outputId": "a1509477-3f32-42b5-877c-d70dce15b149"
      },
      "execution_count": 37,
      "outputs": [
        {
          "output_type": "stream",
          "name": "stdout",
          "text": [
            "linear.weight \t 0.10597813129425049\n",
            "linear.bias \t 0.9637961387634277\n"
          ]
        }
      ]
    },
    {
      "cell_type": "code",
      "source": [
        "x = torch.tensor([2.0])\n",
        "print(model.forward(x)) #weight * x + bias = 0.106x+0.963"
      ],
      "metadata": {
        "colab": {
          "base_uri": "https://localhost:8080/"
        },
        "id": "n3ncDwGvkKl4",
        "outputId": "89a3e6f1-e99d-4ca4-889b-71bdc8d5fd81"
      },
      "execution_count": 31,
      "outputs": [
        {
          "output_type": "stream",
          "name": "stdout",
          "text": [
            "tensor([1.1758], grad_fn=<AddBackward0>)\n"
          ]
        }
      ]
    },
    {
      "cell_type": "code",
      "source": [
        "x1 = np.linspace(0., 50., 50) #see the model, it has x value between 0 and 50\n",
        "x1"
      ],
      "metadata": {
        "id": "6iECfKoPkcTp",
        "colab": {
          "base_uri": "https://localhost:8080/"
        },
        "outputId": "4e41e7ea-9764-44c7-c448-7becb64d7228"
      },
      "execution_count": 40,
      "outputs": [
        {
          "output_type": "execute_result",
          "data": {
            "text/plain": [
              "array([ 0.        ,  1.02040816,  2.04081633,  3.06122449,  4.08163265,\n",
              "        5.10204082,  6.12244898,  7.14285714,  8.16326531,  9.18367347,\n",
              "       10.20408163, 11.2244898 , 12.24489796, 13.26530612, 14.28571429,\n",
              "       15.30612245, 16.32653061, 17.34693878, 18.36734694, 19.3877551 ,\n",
              "       20.40816327, 21.42857143, 22.44897959, 23.46938776, 24.48979592,\n",
              "       25.51020408, 26.53061224, 27.55102041, 28.57142857, 29.59183673,\n",
              "       30.6122449 , 31.63265306, 32.65306122, 33.67346939, 34.69387755,\n",
              "       35.71428571, 36.73469388, 37.75510204, 38.7755102 , 39.79591837,\n",
              "       40.81632653, 41.83673469, 42.85714286, 43.87755102, 44.89795918,\n",
              "       45.91836735, 46.93877551, 47.95918367, 48.97959184, 50.        ])"
            ]
          },
          "metadata": {},
          "execution_count": 40
        }
      ]
    },
    {
      "cell_type": "code",
      "source": [
        "w1 = 0.1059\n",
        "b1 = 0.9637\n",
        "\n",
        "y1 = w1*x1+b1"
      ],
      "metadata": {
        "id": "G4w0Uk78Jq7g"
      },
      "execution_count": 41,
      "outputs": []
    },
    {
      "cell_type": "code",
      "source": [
        "y1"
      ],
      "metadata": {
        "colab": {
          "base_uri": "https://localhost:8080/"
        },
        "id": "T5HSPJu6KC0L",
        "outputId": "117e537d-98d0-49c0-ade7-6e4d96c8e296"
      },
      "execution_count": 42,
      "outputs": [
        {
          "output_type": "execute_result",
          "data": {
            "text/plain": [
              "array([0.9637    , 1.07176122, 1.17982245, 1.28788367, 1.3959449 ,\n",
              "       1.50400612, 1.61206735, 1.72012857, 1.8281898 , 1.93625102,\n",
              "       2.04431224, 2.15237347, 2.26043469, 2.36849592, 2.47655714,\n",
              "       2.58461837, 2.69267959, 2.80074082, 2.90880204, 3.01686327,\n",
              "       3.12492449, 3.23298571, 3.34104694, 3.44910816, 3.55716939,\n",
              "       3.66523061, 3.77329184, 3.88135306, 3.98941429, 4.09747551,\n",
              "       4.20553673, 4.31359796, 4.42165918, 4.52972041, 4.63778163,\n",
              "       4.74584286, 4.85390408, 4.96196531, 5.07002653, 5.17808776,\n",
              "       5.28614898, 5.3942102 , 5.50227143, 5.61033265, 5.71839388,\n",
              "       5.8264551 , 5.93451633, 6.04257755, 6.15063878, 6.2587    ])"
            ]
          },
          "metadata": {},
          "execution_count": 42
        }
      ]
    },
    {
      "cell_type": "code",
      "source": [
        "#model performed poorly coz weight and bias is randomly assigned\n",
        "plt.plot(x1, y1, 'r')\n",
        "plt.scatter(X.numpy(), y.numpy())"
      ],
      "metadata": {
        "colab": {
          "base_uri": "https://localhost:8080/",
          "height": 283
        },
        "id": "gG4-2Zf-KEVQ",
        "outputId": "09a36853-ea57-47c7-c5f0-4d0a80e42c78"
      },
      "execution_count": 44,
      "outputs": [
        {
          "output_type": "execute_result",
          "data": {
            "text/plain": [
              "<matplotlib.collections.PathCollection at 0x7f780d60ccd0>"
            ]
          },
          "metadata": {},
          "execution_count": 44
        },
        {
          "output_type": "display_data",
          "data": {
            "image/png": "[encoded data removed]",
            "text/plain": [
              "<Figure size 432x288 with 1 Axes>"
            ]
          },
          "metadata": {
            "needs_background": "light"
          }
        }
      ]
    },
    {
      "cell_type": "code",
      "source": [
        "#Loss function\n",
        "#criterion coz network performnce is evaluated based on this loss function\n",
        "criterion = nn.MSELoss()\n",
        "optimizer = torch.optim.SGD(model.parameters(), lr=0.001) #coz of nn.Module"
      ],
      "metadata": {
        "id": "HVpL1UvCKKzX"
      },
      "execution_count": 47,
      "outputs": []
    },
    {
      "cell_type": "code",
      "source": [
        "#now train the model\n",
        "epochs = 50\n",
        "losses = [] #keep track of \n",
        "for i in range(epochs):\n",
        "  i = i+1\n",
        "  y_pred = model.forward(X)\n",
        "  loss = criterion(y_pred, y)\n",
        "  losses.append(loss)\n",
        "  print(f\"epoch {i} loss {loss.item()} weight {model.linear.weight.item()} bias {model.linear.bias.item()}\")\n",
        "  optimizer.zero_grad() #restting gradient for each epoch\n",
        "  loss.backward()\n",
        "  optimizer.step() #updates the hyperparameters"
      ],
      "metadata": {
        "colab": {
          "base_uri": "https://localhost:8080/"
        },
        "id": "b14jWkhrK8sx",
        "outputId": "b1eedf5e-fc78-458b-8590-e3c287ceb7d8"
      },
      "execution_count": 51,
      "outputs": [
        {
          "output_type": "stream",
          "name": "stdout",
          "text": [
            "epoch 1 loss 3057.216796875 weight 0.10597813129425049 bias 0.9637961387634277\n",
            "epoch 2 loss 1588.5306396484375 weight 3.334900140762329 bias 1.0604636669158936\n",
            "epoch 3 loss 830.2999267578125 weight 1.014832854270935 bias 0.9922628402709961\n",
            "epoch 4 loss 438.8521728515625 weight 2.6817994117736816 bias 1.0425218343734741\n",
            "epoch 5 loss 236.76144409179688 weight 1.4840213060379028 bias 1.0076650381088257\n",
            "epoch 6 loss 132.4291229248047 weight 2.3446059226989746 bias 1.0339646339416504\n",
            "epoch 7 loss 78.56572723388672 weight 1.7262253761291504 bias 1.0163217782974243\n",
            "epoch 8 loss 50.75775909423828 weight 2.170504093170166 bias 1.0302516222000122\n",
            "epoch 9 loss 36.4012336730957 weight 1.8512457609176636 bias 1.0214954614639282\n",
            "epoch 10 loss 28.989229202270508 weight 2.0806007385253906 bias 1.029038906097412\n",
            "epoch 11 loss 25.162382125854492 weight 1.9157683849334717 bias 1.0248701572418213\n",
            "epoch 12 loss 23.186473846435547 weight 2.034165620803833 bias 1.0291162729263306\n",
            "epoch 13 loss 22.166126251220703 weight 1.9490584135055542 bias 1.027315616607666\n",
            "epoch 14 loss 21.639110565185547 weight 2.010172128677368 bias 1.0298590660095215\n",
            "epoch 15 loss 21.366771697998047 weight 1.9662237167358398 bias 1.0292805433273315\n",
            "epoch 16 loss 21.22591781616211 weight 1.997764229774475 bias 1.030944585800171\n",
            "epoch 17 loss 21.15294647216797 weight 1.9750648736953735 bias 1.0309966802597046\n",
            "epoch 18 loss 21.115009307861328 weight 1.991337537765503 bias 1.032206416130066\n",
            "epoch 19 loss 21.095176696777344 weight 1.9796085357666016 bias 1.0325838327407837\n",
            "epoch 20 loss 21.084684371948242 weight 1.9879988431930542 bias 1.0335586071014404\n",
            "epoch 21 loss 21.07901382446289 weight 1.981933355331421 bias 1.034103512763977\n",
            "epoch 22 loss 21.075830459594727 weight 1.9862544536590576 bias 1.034956693649292\n",
            "epoch 23 loss 21.073938369750977 weight 1.9831126928329468 bias 1.0355877876281738\n",
            "epoch 24 loss 21.07270050048828 weight 1.9853330850601196 bias 1.0363779067993164\n",
            "epoch 25 loss 21.071819305419922 weight 1.9837009906768799 bias 1.037053108215332\n",
            "epoch 26 loss 21.07110595703125 weight 1.9848365783691406 bias 1.037810206413269\n",
            "epoch 27 loss 21.070486068725586 weight 1.9839837551116943 bias 1.0385079383850098\n",
            "epoch 28 loss 21.069913864135742 weight 1.9845597743988037 bias 1.039247751235962\n",
            "epoch 29 loss 21.069368362426758 weight 1.9841090440750122 bias 1.0399566888809204\n",
            "epoch 30 loss 21.068838119506836 weight 1.9843961000442505 bias 1.0406872034072876\n",
            "epoch 31 loss 21.068307876586914 weight 1.984152913093567 bias 1.0414016246795654\n",
            "epoch 32 loss 21.067781448364258 weight 1.9842908382415771 bias 1.042127013206482\n",
            "epoch 33 loss 21.0672607421875 weight 1.9841549396514893 bias 1.0428439378738403\n",
            "epoch 34 loss 21.066740036010742 weight 1.9842157363891602 bias 1.043566346168518\n",
            "epoch 35 loss 21.066225051879883 weight 1.9841355085372925 bias 1.0442842245101929\n",
            "epoch 36 loss 21.06570816040039 weight 1.9841564893722534 bias 1.0450047254562378\n",
            "epoch 37 loss 21.065187454223633 weight 1.9841045141220093 bias 1.0457227230072021\n",
            "epoch 38 loss 21.064668655395508 weight 1.9841052293777466 bias 1.046441912651062\n",
            "epoch 39 loss 21.064157485961914 weight 1.9840680360794067 bias 1.0471596717834473\n",
            "epoch 40 loss 21.063636779785156 weight 1.984058141708374 bias 1.0478779077529907\n",
            "epoch 41 loss 21.063125610351562 weight 1.984028697013855 bias 1.0485951900482178\n",
            "epoch 42 loss 21.062606811523438 weight 1.9840131998062134 bias 1.0493125915527344\n",
            "epoch 43 loss 21.062095642089844 weight 1.98398756980896 bias 1.0500292778015137\n",
            "epoch 44 loss 21.06157684326172 weight 1.9839695692062378 bias 1.0507458448410034\n",
            "epoch 45 loss 21.06106948852539 weight 1.9839458465576172 bias 1.051461935043335\n",
            "epoch 46 loss 21.06055450439453 weight 1.9839262962341309 bias 1.0521777868270874\n",
            "epoch 47 loss 21.060043334960938 weight 1.9839037656784058 bias 1.0528931617736816\n",
            "epoch 48 loss 21.059532165527344 weight 1.9838833808898926 bias 1.0536082983016968\n",
            "epoch 49 loss 21.05901336669922 weight 1.9838614463806152 bias 1.0543230772018433\n",
            "epoch 50 loss 21.058509826660156 weight 1.9838409423828125 bias 1.055037498474121\n"
          ]
        }
      ]
    },
    {
      "cell_type": "code",
      "source": [
        "plt.plot(range(epochs), losses)\n",
        "plt.ylabel('MSE Loss')\n",
        "plt.xlabel('Epoch')"
      ],
      "metadata": {
        "colab": {
          "base_uri": "https://localhost:8080/",
          "height": 633
        },
        "id": "etocDcVsL_LN",
        "outputId": "9c9e0aa5-c198-459f-9b4d-a96e5de8e63d"
      },
      "execution_count": 54,
      "outputs": [
        {
          "output_type": "error",
          "ename": "RuntimeError",
          "evalue": "ignored",
          "traceback": [
            "\u001b[0;31m---------------------------------------------------------------------------\u001b[0m",
            "\u001b[0;31mRuntimeError\u001b[0m                              Traceback (most recent call last)",
            "\u001b[0;32m<ipython-input-54-e8629b047ac3>\u001b[0m in \u001b[0;36m<module>\u001b[0;34m()\u001b[0m\n\u001b[0;32m----> 1\u001b[0;31m \u001b[0mplt\u001b[0m\u001b[0;34m.\u001b[0m\u001b[0mplot\u001b[0m\u001b[0;34m(\u001b[0m\u001b[0mrange\u001b[0m\u001b[0;34m(\u001b[0m\u001b[0mepochs\u001b[0m\u001b[0;34m)\u001b[0m\u001b[0;34m,\u001b[0m \u001b[0mlosses\u001b[0m\u001b[0;34m)\u001b[0m\u001b[0;34m\u001b[0m\u001b[0;34m\u001b[0m\u001b[0m\n\u001b[0m\u001b[1;32m      2\u001b[0m \u001b[0mplt\u001b[0m\u001b[0;34m.\u001b[0m\u001b[0mylabel\u001b[0m\u001b[0;34m(\u001b[0m\u001b[0;34m'MSE Loss'\u001b[0m\u001b[0;34m)\u001b[0m\u001b[0;34m\u001b[0m\u001b[0;34m\u001b[0m\u001b[0m\n\u001b[1;32m      3\u001b[0m \u001b[0mplt\u001b[0m\u001b[0;34m.\u001b[0m\u001b[0mxlabel\u001b[0m\u001b[0;34m(\u001b[0m\u001b[0;34m'Epoch'\u001b[0m\u001b[0;34m)\u001b[0m\u001b[0;34m\u001b[0m\u001b[0;34m\u001b[0m\u001b[0m\n",
            "\u001b[0;32m/usr/local/lib/python3.7/dist-packages/matplotlib/pyplot.py\u001b[0m in \u001b[0;36mplot\u001b[0;34m(scalex, scaley, data, *args, **kwargs)\u001b[0m\n\u001b[1;32m   2761\u001b[0m     return gca().plot(\n\u001b[1;32m   2762\u001b[0m         *args, scalex=scalex, scaley=scaley, **({\"data\": data} if data\n\u001b[0;32m-> 2763\u001b[0;31m         is not None else {}), **kwargs)\n\u001b[0m\u001b[1;32m   2764\u001b[0m \u001b[0;34m\u001b[0m\u001b[0m\n\u001b[1;32m   2765\u001b[0m \u001b[0;34m\u001b[0m\u001b[0m\n",
            "\u001b[0;32m/usr/local/lib/python3.7/dist-packages/matplotlib/axes/_axes.py\u001b[0m in \u001b[0;36mplot\u001b[0;34m(self, scalex, scaley, data, *args, **kwargs)\u001b[0m\n\u001b[1;32m   1645\u001b[0m         \"\"\"\n\u001b[1;32m   1646\u001b[0m         \u001b[0mkwargs\u001b[0m \u001b[0;34m=\u001b[0m \u001b[0mcbook\u001b[0m\u001b[0;34m.\u001b[0m\u001b[0mnormalize_kwargs\u001b[0m\u001b[0;34m(\u001b[0m\u001b[0mkwargs\u001b[0m\u001b[0;34m,\u001b[0m \u001b[0mmlines\u001b[0m\u001b[0;34m.\u001b[0m\u001b[0mLine2D\u001b[0m\u001b[0;34m)\u001b[0m\u001b[0;34m\u001b[0m\u001b[0;34m\u001b[0m\u001b[0m\n\u001b[0;32m-> 1647\u001b[0;31m         \u001b[0mlines\u001b[0m \u001b[0;34m=\u001b[0m \u001b[0;34m[\u001b[0m\u001b[0;34m*\u001b[0m\u001b[0mself\u001b[0m\u001b[0;34m.\u001b[0m\u001b[0m_get_lines\u001b[0m\u001b[0;34m(\u001b[0m\u001b[0;34m*\u001b[0m\u001b[0margs\u001b[0m\u001b[0;34m,\u001b[0m \u001b[0mdata\u001b[0m\u001b[0;34m=\u001b[0m\u001b[0mdata\u001b[0m\u001b[0;34m,\u001b[0m \u001b[0;34m**\u001b[0m\u001b[0mkwargs\u001b[0m\u001b[0;34m)\u001b[0m\u001b[0;34m]\u001b[0m\u001b[0;34m\u001b[0m\u001b[0;34m\u001b[0m\u001b[0m\n\u001b[0m\u001b[1;32m   1648\u001b[0m         \u001b[0;32mfor\u001b[0m \u001b[0mline\u001b[0m \u001b[0;32min\u001b[0m \u001b[0mlines\u001b[0m\u001b[0;34m:\u001b[0m\u001b[0;34m\u001b[0m\u001b[0;34m\u001b[0m\u001b[0m\n\u001b[1;32m   1649\u001b[0m             \u001b[0mself\u001b[0m\u001b[0;34m.\u001b[0m\u001b[0madd_line\u001b[0m\u001b[0;34m(\u001b[0m\u001b[0mline\u001b[0m\u001b[0;34m)\u001b[0m\u001b[0;34m\u001b[0m\u001b[0;34m\u001b[0m\u001b[0m\n",
            "\u001b[0;32m/usr/local/lib/python3.7/dist-packages/matplotlib/axes/_base.py\u001b[0m in \u001b[0;36m__call__\u001b[0;34m(self, *args, **kwargs)\u001b[0m\n\u001b[1;32m    214\u001b[0m                 \u001b[0mthis\u001b[0m \u001b[0;34m+=\u001b[0m \u001b[0margs\u001b[0m\u001b[0;34m[\u001b[0m\u001b[0;36m0\u001b[0m\u001b[0;34m]\u001b[0m\u001b[0;34m,\u001b[0m\u001b[0;34m\u001b[0m\u001b[0;34m\u001b[0m\u001b[0m\n\u001b[1;32m    215\u001b[0m                 \u001b[0margs\u001b[0m \u001b[0;34m=\u001b[0m \u001b[0margs\u001b[0m\u001b[0;34m[\u001b[0m\u001b[0;36m1\u001b[0m\u001b[0;34m:\u001b[0m\u001b[0;34m]\u001b[0m\u001b[0;34m\u001b[0m\u001b[0;34m\u001b[0m\u001b[0m\n\u001b[0;32m--> 216\u001b[0;31m             \u001b[0;32myield\u001b[0m \u001b[0;32mfrom\u001b[0m \u001b[0mself\u001b[0m\u001b[0;34m.\u001b[0m\u001b[0m_plot_args\u001b[0m\u001b[0;34m(\u001b[0m\u001b[0mthis\u001b[0m\u001b[0;34m,\u001b[0m \u001b[0mkwargs\u001b[0m\u001b[0;34m)\u001b[0m\u001b[0;34m\u001b[0m\u001b[0;34m\u001b[0m\u001b[0m\n\u001b[0m\u001b[1;32m    217\u001b[0m \u001b[0;34m\u001b[0m\u001b[0m\n\u001b[1;32m    218\u001b[0m     \u001b[0;32mdef\u001b[0m \u001b[0mget_next_color\u001b[0m\u001b[0;34m(\u001b[0m\u001b[0mself\u001b[0m\u001b[0;34m)\u001b[0m\u001b[0;34m:\u001b[0m\u001b[0;34m\u001b[0m\u001b[0;34m\u001b[0m\u001b[0m\n",
            "\u001b[0;32m/usr/local/lib/python3.7/dist-packages/matplotlib/axes/_base.py\u001b[0m in \u001b[0;36m_plot_args\u001b[0;34m(self, tup, kwargs)\u001b[0m\n\u001b[1;32m    330\u001b[0m         \u001b[0;32mif\u001b[0m \u001b[0mlen\u001b[0m\u001b[0;34m(\u001b[0m\u001b[0mtup\u001b[0m\u001b[0;34m)\u001b[0m \u001b[0;34m==\u001b[0m \u001b[0;36m2\u001b[0m\u001b[0;34m:\u001b[0m\u001b[0;34m\u001b[0m\u001b[0;34m\u001b[0m\u001b[0m\n\u001b[1;32m    331\u001b[0m             \u001b[0mx\u001b[0m \u001b[0;34m=\u001b[0m \u001b[0m_check_1d\u001b[0m\u001b[0;34m(\u001b[0m\u001b[0mtup\u001b[0m\u001b[0;34m[\u001b[0m\u001b[0;36m0\u001b[0m\u001b[0;34m]\u001b[0m\u001b[0;34m)\u001b[0m\u001b[0;34m\u001b[0m\u001b[0;34m\u001b[0m\u001b[0m\n\u001b[0;32m--> 332\u001b[0;31m             \u001b[0my\u001b[0m \u001b[0;34m=\u001b[0m \u001b[0m_check_1d\u001b[0m\u001b[0;34m(\u001b[0m\u001b[0mtup\u001b[0m\u001b[0;34m[\u001b[0m\u001b[0;34m-\u001b[0m\u001b[0;36m1\u001b[0m\u001b[0;34m]\u001b[0m\u001b[0;34m)\u001b[0m\u001b[0;34m\u001b[0m\u001b[0;34m\u001b[0m\u001b[0m\n\u001b[0m\u001b[1;32m    333\u001b[0m         \u001b[0;32melse\u001b[0m\u001b[0;34m:\u001b[0m\u001b[0;34m\u001b[0m\u001b[0;34m\u001b[0m\u001b[0m\n\u001b[1;32m    334\u001b[0m             \u001b[0mx\u001b[0m\u001b[0;34m,\u001b[0m \u001b[0my\u001b[0m \u001b[0;34m=\u001b[0m \u001b[0mindex_of\u001b[0m\u001b[0;34m(\u001b[0m\u001b[0mtup\u001b[0m\u001b[0;34m[\u001b[0m\u001b[0;34m-\u001b[0m\u001b[0;36m1\u001b[0m\u001b[0;34m]\u001b[0m\u001b[0;34m)\u001b[0m\u001b[0;34m\u001b[0m\u001b[0;34m\u001b[0m\u001b[0m\n",
            "\u001b[0;32m/usr/local/lib/python3.7/dist-packages/matplotlib/cbook/__init__.py\u001b[0m in \u001b[0;36m_check_1d\u001b[0;34m(x)\u001b[0m\n\u001b[1;32m   1324\u001b[0m     '''\n\u001b[1;32m   1325\u001b[0m     \u001b[0;32mif\u001b[0m \u001b[0;32mnot\u001b[0m \u001b[0mhasattr\u001b[0m\u001b[0;34m(\u001b[0m\u001b[0mx\u001b[0m\u001b[0;34m,\u001b[0m \u001b[0;34m'shape'\u001b[0m\u001b[0;34m)\u001b[0m \u001b[0;32mor\u001b[0m \u001b[0mlen\u001b[0m\u001b[0;34m(\u001b[0m\u001b[0mx\u001b[0m\u001b[0;34m.\u001b[0m\u001b[0mshape\u001b[0m\u001b[0;34m)\u001b[0m \u001b[0;34m<\u001b[0m \u001b[0;36m1\u001b[0m\u001b[0;34m:\u001b[0m\u001b[0;34m\u001b[0m\u001b[0;34m\u001b[0m\u001b[0m\n\u001b[0;32m-> 1326\u001b[0;31m         \u001b[0;32mreturn\u001b[0m \u001b[0mnp\u001b[0m\u001b[0;34m.\u001b[0m\u001b[0matleast_1d\u001b[0m\u001b[0;34m(\u001b[0m\u001b[0mx\u001b[0m\u001b[0;34m)\u001b[0m\u001b[0;34m\u001b[0m\u001b[0;34m\u001b[0m\u001b[0m\n\u001b[0m\u001b[1;32m   1327\u001b[0m     \u001b[0;32melse\u001b[0m\u001b[0;34m:\u001b[0m\u001b[0;34m\u001b[0m\u001b[0;34m\u001b[0m\u001b[0m\n\u001b[1;32m   1328\u001b[0m         \u001b[0;32mtry\u001b[0m\u001b[0;34m:\u001b[0m\u001b[0;34m\u001b[0m\u001b[0;34m\u001b[0m\u001b[0m\n",
            "\u001b[0;32m<__array_function__ internals>\u001b[0m in \u001b[0;36matleast_1d\u001b[0;34m(*args, **kwargs)\u001b[0m\n",
            "\u001b[0;32m/usr/local/lib/python3.7/dist-packages/numpy/core/shape_base.py\u001b[0m in \u001b[0;36matleast_1d\u001b[0;34m(*arys)\u001b[0m\n\u001b[1;32m     63\u001b[0m     \u001b[0mres\u001b[0m \u001b[0;34m=\u001b[0m \u001b[0;34m[\u001b[0m\u001b[0;34m]\u001b[0m\u001b[0;34m\u001b[0m\u001b[0;34m\u001b[0m\u001b[0m\n\u001b[1;32m     64\u001b[0m     \u001b[0;32mfor\u001b[0m \u001b[0mary\u001b[0m \u001b[0;32min\u001b[0m \u001b[0marys\u001b[0m\u001b[0;34m:\u001b[0m\u001b[0;34m\u001b[0m\u001b[0;34m\u001b[0m\u001b[0m\n\u001b[0;32m---> 65\u001b[0;31m         \u001b[0mary\u001b[0m \u001b[0;34m=\u001b[0m \u001b[0masanyarray\u001b[0m\u001b[0;34m(\u001b[0m\u001b[0mary\u001b[0m\u001b[0;34m)\u001b[0m\u001b[0;34m\u001b[0m\u001b[0;34m\u001b[0m\u001b[0m\n\u001b[0m\u001b[1;32m     66\u001b[0m         \u001b[0;32mif\u001b[0m \u001b[0mary\u001b[0m\u001b[0;34m.\u001b[0m\u001b[0mndim\u001b[0m \u001b[0;34m==\u001b[0m \u001b[0;36m0\u001b[0m\u001b[0;34m:\u001b[0m\u001b[0;34m\u001b[0m\u001b[0;34m\u001b[0m\u001b[0m\n\u001b[1;32m     67\u001b[0m             \u001b[0mresult\u001b[0m \u001b[0;34m=\u001b[0m \u001b[0mary\u001b[0m\u001b[0;34m.\u001b[0m\u001b[0mreshape\u001b[0m\u001b[0;34m(\u001b[0m\u001b[0;36m1\u001b[0m\u001b[0;34m)\u001b[0m\u001b[0;34m\u001b[0m\u001b[0;34m\u001b[0m\u001b[0m\n",
            "\u001b[0;32m/usr/local/lib/python3.7/dist-packages/torch/_tensor.py\u001b[0m in \u001b[0;36m__array__\u001b[0;34m(self, dtype)\u001b[0m\n\u001b[1;32m    676\u001b[0m             \u001b[0;32mreturn\u001b[0m \u001b[0mhandle_torch_function\u001b[0m\u001b[0;34m(\u001b[0m\u001b[0mTensor\u001b[0m\u001b[0;34m.\u001b[0m\u001b[0m__array__\u001b[0m\u001b[0;34m,\u001b[0m \u001b[0;34m(\u001b[0m\u001b[0mself\u001b[0m\u001b[0;34m,\u001b[0m\u001b[0;34m)\u001b[0m\u001b[0;34m,\u001b[0m \u001b[0mself\u001b[0m\u001b[0;34m,\u001b[0m \u001b[0mdtype\u001b[0m\u001b[0;34m=\u001b[0m\u001b[0mdtype\u001b[0m\u001b[0;34m)\u001b[0m\u001b[0;34m\u001b[0m\u001b[0;34m\u001b[0m\u001b[0m\n\u001b[1;32m    677\u001b[0m         \u001b[0;32mif\u001b[0m \u001b[0mdtype\u001b[0m \u001b[0;32mis\u001b[0m \u001b[0;32mNone\u001b[0m\u001b[0;34m:\u001b[0m\u001b[0;34m\u001b[0m\u001b[0;34m\u001b[0m\u001b[0m\n\u001b[0;32m--> 678\u001b[0;31m             \u001b[0;32mreturn\u001b[0m \u001b[0mself\u001b[0m\u001b[0;34m.\u001b[0m\u001b[0mnumpy\u001b[0m\u001b[0;34m(\u001b[0m\u001b[0;34m)\u001b[0m\u001b[0;34m\u001b[0m\u001b[0;34m\u001b[0m\u001b[0m\n\u001b[0m\u001b[1;32m    679\u001b[0m         \u001b[0;32melse\u001b[0m\u001b[0;34m:\u001b[0m\u001b[0;34m\u001b[0m\u001b[0;34m\u001b[0m\u001b[0m\n\u001b[1;32m    680\u001b[0m             \u001b[0;32mreturn\u001b[0m \u001b[0mself\u001b[0m\u001b[0;34m.\u001b[0m\u001b[0mnumpy\u001b[0m\u001b[0;34m(\u001b[0m\u001b[0;34m)\u001b[0m\u001b[0;34m.\u001b[0m\u001b[0mastype\u001b[0m\u001b[0;34m(\u001b[0m\u001b[0mdtype\u001b[0m\u001b[0;34m,\u001b[0m \u001b[0mcopy\u001b[0m\u001b[0;34m=\u001b[0m\u001b[0;32mFalse\u001b[0m\u001b[0;34m)\u001b[0m\u001b[0;34m\u001b[0m\u001b[0;34m\u001b[0m\u001b[0m\n",
            "\u001b[0;31mRuntimeError\u001b[0m: Can't call numpy() on Tensor that requires grad. Use tensor.detach().numpy() instead."
          ]
        },
        {
          "output_type": "display_data",
          "data": {
            "image/png": "[encoded data removed]",
            "text/plain": [
              "<Figure size 432x288 with 1 Axes>"
            ]
          },
          "metadata": {
            "needs_background": "light"
          }
        }
      ]
    },
    {
      "cell_type": "code",
      "source": [
        "x = np.linspace(0.0, 50.0, 50)\n",
        "current_weight = model.linear.weight.item()\n",
        "current_bias = model.linear.bias.item()\n",
        "predicted_y = current_weight * x + current_bias"
      ],
      "metadata": {
        "id": "yp77lVQBN0cr"
      },
      "execution_count": 55,
      "outputs": []
    },
    {
      "cell_type": "code",
      "source": [
        "predicted_y"
      ],
      "metadata": {
        "colab": {
          "base_uri": "https://localhost:8080/"
        },
        "id": "Rp2zvoyGPMhv",
        "outputId": "fb06604e-5682-48b0-b659-ad8553a3553d"
      },
      "execution_count": 56,
      "outputs": [
        {
          "output_type": "execute_result",
          "data": {
            "text/plain": [
              "array([  1.05575156,   3.08005679,   5.10436203,   7.12866726,\n",
              "         9.15297249,  11.17727772,  13.20158295,  15.22588818,\n",
              "        17.25019342,  19.27449865,  21.29880388,  23.32310911,\n",
              "        25.34741434,  27.37171957,  29.39602481,  31.42033004,\n",
              "        33.44463527,  35.4689405 ,  37.49324573,  39.51755096,\n",
              "        41.5418562 ,  43.56616143,  45.59046666,  47.61477189,\n",
              "        49.63907712,  51.66338236,  53.68768759,  55.71199282,\n",
              "        57.73629805,  59.76060328,  61.78490851,  63.80921375,\n",
              "        65.83351898,  67.85782421,  69.88212944,  71.90643467,\n",
              "        73.9307399 ,  75.95504514,  77.97935037,  80.0036556 ,\n",
              "        82.02796083,  84.05226606,  86.07657129,  88.10087653,\n",
              "        90.12518176,  92.14948699,  94.17379222,  96.19809745,\n",
              "        98.22240268, 100.24670792])"
            ]
          },
          "metadata": {},
          "execution_count": 56
        }
      ]
    },
    {
      "cell_type": "code",
      "source": [
        "plt.plot(x, predicted_y, 'r')\n",
        "plt.scatter(X.numpy(), y.numpy() )"
      ],
      "metadata": {
        "colab": {
          "base_uri": "https://localhost:8080/",
          "height": 283
        },
        "id": "vp3X_wC1PRgw",
        "outputId": "717ae11b-ffd9-47fb-c2ef-4c7682266ed1"
      },
      "execution_count": 62,
      "outputs": [
        {
          "output_type": "execute_result",
          "data": {
            "text/plain": [
              "<matplotlib.collections.PathCollection at 0x7f780d0c9610>"
            ]
          },
          "metadata": {},
          "execution_count": 62
        },
        {
          "output_type": "display_data",
          "data": {
            "image/png": "[encoded data removed]",
            "text/plain": [
              "<Figure size 432x288 with 1 Axes>"
            ]
          },
          "metadata": {
            "needs_background": "light"
          }
        }
      ]
    },
    {
      "cell_type": "code",
      "source": [
        ""
      ],
      "metadata": {
        "id": "cB9OwGwQPWGD"
      },
      "execution_count": null,
      "outputs": []
    }
  ]
}