{
  "nbformat": 4,
  "nbformat_minor": 0,
  "metadata": {
    "colab": {
      "name": "NLP with python.ipynb",
      "provenance": [],
      "authorship_tag": "ABX9TyO+QHD6gKtgrtMVWFC0qZoL",
      "include_colab_link": true
    },
    "kernelspec": {
      "name": "python3",
      "display_name": "Python 3"
    },
    "language_info": {
      "name": "python"
    }
  },
  "cells": [
    {
      "cell_type": "markdown",
      "metadata": {
        "id": "view-in-github",
        "colab_type": "text"
      },
      "source": [
        "<a href=\"https://colab.research.google.com/github/kvs1998/PythonForDSandML/blob/main/NLP_with_python.ipynb\" target=\"_parent\"><img src=\"https://colab.research.google.com/assets/colab-badge.svg\" alt=\"Open In Colab\"/></a>"
      ]
    },
    {
      "cell_type": "markdown",
      "metadata": {
        "id": "6wvUOZNkoZCi"
      },
      "source": [
        "NLP Bootcamp Course Udemy Jose Portilla"
      ]
    },
    {
      "cell_type": "markdown",
      "metadata": {
        "id": "_pSsOgHRsEVr"
      },
      "source": [
        "### Print Basics for NLP"
      ]
    },
    {
      "cell_type": "code",
      "metadata": {
        "colab": {
          "base_uri": "https://localhost:8080/"
        },
        "id": "n90RQTyOoTx3",
        "outputId": "e8bf6bdf-51d5-4fb3-ec0c-fa4ef6807e30"
      },
      "source": [
        "person = \"Jose\"\n",
        "myList = [0,1,2]\n",
        "print(\"My name is {}\".format(person))\n",
        "print(f\"My name is {person}\")\n",
        "print(f\"List val 1 = {myList[1]}\")"
      ],
      "execution_count": null,
      "outputs": [
        {
          "output_type": "stream",
          "text": [
            "My name is Jose\n",
            "My name is Jose\n",
            "List val 1 = 1\n"
          ],
          "name": "stdout"
        }
      ]
    },
    {
      "cell_type": "code",
      "metadata": {
        "colab": {
          "base_uri": "https://localhost:8080/"
        },
        "id": "lZagW-9NtHiQ",
        "outputId": "e4be8a01-3b72-44ca-8737-a477b839f4d6"
      },
      "source": [
        "#tuples inside list\n",
        "library = [('Author', 'Topic', 'Pages'), ('Twain', 'Rafting', 601), ('Feynman', 'Physics', 95), ('Hamilton', 'Mythology', 144)]\n",
        "library"
      ],
      "execution_count": null,
      "outputs": [
        {
          "output_type": "execute_result",
          "data": {
            "text/plain": [
              "[('Author', 'Topic', 'Pages'),\n",
              " ('Twain', 'Rafting', 601),\n",
              " ('Feynman', 'Physics', 95),\n",
              " ('Hamilton', 'Mythology', 144)]"
            ]
          },
          "metadata": {
            "tags": []
          },
          "execution_count": 2
        }
      ]
    },
    {
      "cell_type": "code",
      "metadata": {
        "colab": {
          "base_uri": "https://localhost:8080/"
        },
        "id": "yVDBaa2-vbCg",
        "outputId": "a00e0ed8-cc19-49a6-b28f-299b55385467"
      },
      "source": [
        "#tuple unpacking (10 in author is min no:of spaces(good for formatting))\n",
        "for author, topic, page in library:\n",
        "  print(f\"{author:{10}} {topic:{10}} {page:.>{10}}\")"
      ],
      "execution_count": null,
      "outputs": [
        {
          "output_type": "stream",
          "text": [
            "Author     Topic      .....Pages\n",
            "Twain      Rafting    .......601\n",
            "Feynman    Physics    ........95\n",
            "Hamilton   Mythology  .......144\n"
          ],
          "name": "stdout"
        }
      ]
    },
    {
      "cell_type": "code",
      "metadata": {
        "colab": {
          "base_uri": "https://localhost:8080/"
        },
        "id": "MDo2ASxwvlg2",
        "outputId": "95f00c08-66ad-408c-db32-c1b0537ce8a2"
      },
      "source": [
        "from datetime import datetime\n",
        "today=datetime(year=2019, month=2, day=2)\n",
        "today"
      ],
      "execution_count": null,
      "outputs": [
        {
          "output_type": "execute_result",
          "data": {
            "text/plain": [
              "datetime.datetime(2019, 2, 2, 0, 0)"
            ]
          },
          "metadata": {
            "tags": []
          },
          "execution_count": 4
        }
      ]
    },
    {
      "cell_type": "code",
      "metadata": {
        "colab": {
          "base_uri": "https://localhost:8080/"
        },
        "id": "GDvzhflo9M2K",
        "outputId": "b9be2435-9e95-4d71-d195-a3b64426e25b"
      },
      "source": [
        "print(f\"{today:%m %d %y}\")"
      ],
      "execution_count": null,
      "outputs": [
        {
          "output_type": "stream",
          "text": [
            "02 02 19\n"
          ],
          "name": "stdout"
        }
      ]
    },
    {
      "cell_type": "markdown",
      "metadata": {
        "id": "ueLT4LXvASt-"
      },
      "source": [
        "**Working with Text Files with Python**"
      ]
    },
    {
      "cell_type": "code",
      "metadata": {
        "id": "jj3cWJHHAZHy",
        "colab": {
          "base_uri": "https://localhost:8080/"
        },
        "outputId": "9c89f46d-b495-421a-f9b9-cec55fad0887"
      },
      "source": [
        "%%writefile test.txt\n",
        "Hello this a text file. this is the \n",
        "second line of the file"
      ],
      "execution_count": null,
      "outputs": [
        {
          "output_type": "stream",
          "text": [
            "Writing test.txt\n"
          ],
          "name": "stdout"
        }
      ]
    },
    {
      "cell_type": "markdown",
      "metadata": {
        "id": "Bk14o47HwlQC"
      },
      "source": [
        "Read from a File\n"
      ]
    },
    {
      "cell_type": "code",
      "metadata": {
        "id": "_i1pkcH9tD-1"
      },
      "source": [
        "myfile = open('/content/test.txt') "
      ],
      "execution_count": null,
      "outputs": []
    },
    {
      "cell_type": "code",
      "metadata": {
        "colab": {
          "base_uri": "https://localhost:8080/",
          "height": 35
        },
        "id": "0AbEKSYWtV4L",
        "outputId": "b6971e5c-a8ad-44ea-b793-9da508d87b42"
      },
      "source": [
        "pwd #where all files are located"
      ],
      "execution_count": null,
      "outputs": [
        {
          "output_type": "execute_result",
          "data": {
            "application/vnd.google.colaboratory.intrinsic+json": {
              "type": "string"
            },
            "text/plain": [
              "'/content'"
            ]
          },
          "metadata": {
            "tags": []
          },
          "execution_count": 8
        }
      ]
    },
    {
      "cell_type": "code",
      "metadata": {
        "colab": {
          "base_uri": "https://localhost:8080/"
        },
        "id": "RzcvfjPuthH8",
        "outputId": "02fe74ee-7580-46f5-c7e9-cdee20e582a1"
      },
      "source": [
        "myfile"
      ],
      "execution_count": null,
      "outputs": [
        {
          "output_type": "execute_result",
          "data": {
            "text/plain": [
              "<_io.TextIOWrapper name='/content/test.txt' mode='r' encoding='UTF-8'>"
            ]
          },
          "metadata": {
            "tags": []
          },
          "execution_count": 9
        }
      ]
    },
    {
      "cell_type": "code",
      "metadata": {
        "colab": {
          "base_uri": "https://localhost:8080/",
          "height": 35
        },
        "id": "gnqdXL1_unWE",
        "outputId": "64db96eb-6b03-4b88-c09a-3dde18792b9a"
      },
      "source": [
        "myfile.read()"
      ],
      "execution_count": null,
      "outputs": [
        {
          "output_type": "execute_result",
          "data": {
            "application/vnd.google.colaboratory.intrinsic+json": {
              "type": "string"
            },
            "text/plain": [
              "'Hello this a text file. this is the \\nsecond line of the file'"
            ]
          },
          "metadata": {
            "tags": []
          },
          "execution_count": 10
        }
      ]
    },
    {
      "cell_type": "code",
      "metadata": {
        "colab": {
          "base_uri": "https://localhost:8080/",
          "height": 35
        },
        "id": "bylvhXK3vC4r",
        "outputId": "0c2766bf-0f96-4214-d262-b9a722d9e7f1"
      },
      "source": [
        "myfile.read() #cursor on the last position of text file"
      ],
      "execution_count": null,
      "outputs": [
        {
          "output_type": "execute_result",
          "data": {
            "application/vnd.google.colaboratory.intrinsic+json": {
              "type": "string"
            },
            "text/plain": [
              "''"
            ]
          },
          "metadata": {
            "tags": []
          },
          "execution_count": 11
        }
      ]
    },
    {
      "cell_type": "code",
      "metadata": {
        "colab": {
          "base_uri": "https://localhost:8080/",
          "height": 35
        },
        "id": "EoQLko4WvUCz",
        "outputId": "610ff26d-674c-4eca-dc49-01b8b59e08a4"
      },
      "source": [
        "myfile.seek(0) #sets cursor to 0 position of txt file again\n",
        "myfile.read()"
      ],
      "execution_count": null,
      "outputs": [
        {
          "output_type": "execute_result",
          "data": {
            "application/vnd.google.colaboratory.intrinsic+json": {
              "type": "string"
            },
            "text/plain": [
              "'Hello this a text file. this is the \\nsecond line of the file'"
            ]
          },
          "metadata": {
            "tags": []
          },
          "execution_count": 12
        }
      ]
    },
    {
      "cell_type": "code",
      "metadata": {
        "id": "6F4Tl2ahve3Z"
      },
      "source": [
        "myfile.close()"
      ],
      "execution_count": null,
      "outputs": []
    },
    {
      "cell_type": "code",
      "metadata": {
        "id": "DaQCSfKmv211"
      },
      "source": [
        "myfile = open('/content/test.txt') \n",
        "myfile.seek(0)\n",
        "mylines = myfile.readlines()"
      ],
      "execution_count": null,
      "outputs": []
    },
    {
      "cell_type": "code",
      "metadata": {
        "colab": {
          "base_uri": "https://localhost:8080/"
        },
        "id": "2jndgJr3wJuv",
        "outputId": "8fc5ae0d-9bf1-40b4-8aab-7192ab53cbad"
      },
      "source": [
        "for line in mylines:\n",
        "  print(line)"
      ],
      "execution_count": null,
      "outputs": [
        {
          "output_type": "stream",
          "text": [
            "Hello this a text file. this is the \n",
            "\n",
            "second line of the file\n"
          ],
          "name": "stdout"
        }
      ]
    },
    {
      "cell_type": "markdown",
      "metadata": {
        "id": "gfHOxvXLwnjo"
      },
      "source": [
        "Write to a File"
      ]
    },
    {
      "cell_type": "code",
      "metadata": {
        "id": "WePuCN9iwVqb"
      },
      "source": [
        " #myfile.write('Woah')"
      ],
      "execution_count": null,
      "outputs": []
    },
    {
      "cell_type": "code",
      "metadata": {
        "colab": {
          "base_uri": "https://localhost:8080/"
        },
        "id": "s-sGUvS0xBe7",
        "outputId": "df16db7e-9346-460b-9bed-f5de72e276c5"
      },
      "source": [
        "myfile.close()\n",
        "myfile = open('/content/test.txt', 'w+') #w+ overwrites original content file\n",
        "myfile.write(\"MY BRAND NEW TEXT\")"
      ],
      "execution_count": null,
      "outputs": [
        {
          "output_type": "execute_result",
          "data": {
            "text/plain": [
              "17"
            ]
          },
          "metadata": {
            "tags": []
          },
          "execution_count": 17
        }
      ]
    },
    {
      "cell_type": "code",
      "metadata": {
        "colab": {
          "base_uri": "https://localhost:8080/",
          "height": 35
        },
        "id": "dxIh5k_7xRoo",
        "outputId": "1bc8db11-a0ca-4942-8dcf-ac2c22be6a9b"
      },
      "source": [
        "myfile.read()"
      ],
      "execution_count": null,
      "outputs": [
        {
          "output_type": "execute_result",
          "data": {
            "application/vnd.google.colaboratory.intrinsic+json": {
              "type": "string"
            },
            "text/plain": [
              "''"
            ]
          },
          "metadata": {
            "tags": []
          },
          "execution_count": 18
        }
      ]
    },
    {
      "cell_type": "code",
      "metadata": {
        "id": "cqJg0axVxTrK"
      },
      "source": [
        "myfile.close()"
      ],
      "execution_count": null,
      "outputs": []
    },
    {
      "cell_type": "markdown",
      "metadata": {
        "id": "pkfgkSF5xhJc"
      },
      "source": [
        "Append to a file"
      ]
    },
    {
      "cell_type": "code",
      "metadata": {
        "id": "JPoLDW7AxgX1"
      },
      "source": [
        "myfile = open('/content/test.txt', 'a+') #a+ is for appending\n",
        "myfile.write(\"MY first line in a+ opening\")\n",
        "myfile.close()"
      ],
      "execution_count": null,
      "outputs": []
    },
    {
      "cell_type": "code",
      "metadata": {
        "colab": {
          "base_uri": "https://localhost:8080/",
          "height": 35
        },
        "id": "k4Ueo6zfx1mR",
        "outputId": "4ea4005c-6d26-42ae-8133-a998e4632ccf"
      },
      "source": [
        "myfile = open('/content/test.txt')\n",
        "myfile.read()"
      ],
      "execution_count": null,
      "outputs": [
        {
          "output_type": "execute_result",
          "data": {
            "application/vnd.google.colaboratory.intrinsic+json": {
              "type": "string"
            },
            "text/plain": [
              "'MY BRAND NEW TEXTMY first line in a+ opening'"
            ]
          },
          "metadata": {
            "tags": []
          },
          "execution_count": 21
        }
      ]
    },
    {
      "cell_type": "code",
      "metadata": {
        "id": "-CznNyscx7Vp"
      },
      "source": [
        "myfile.close()"
      ],
      "execution_count": null,
      "outputs": []
    },
    {
      "cell_type": "code",
      "metadata": {
        "id": "7rOEuaD1yFBc"
      },
      "source": [
        "with open('/content/test.txt') as myfile: #no explicit close needed\n",
        "  myline = myfile.readlines()"
      ],
      "execution_count": null,
      "outputs": []
    },
    {
      "cell_type": "code",
      "metadata": {
        "colab": {
          "base_uri": "https://localhost:8080/"
        },
        "id": "IeOSffFgy6h_",
        "outputId": "2e04e6a4-aa5e-4352-fd46-4f963062de04"
      },
      "source": [
        "myline"
      ],
      "execution_count": null,
      "outputs": [
        {
          "output_type": "execute_result",
          "data": {
            "text/plain": [
              "['MY BRAND NEW TEXTMY first line in a+ opening']"
            ]
          },
          "metadata": {
            "tags": []
          },
          "execution_count": 24
        }
      ]
    },
    {
      "cell_type": "markdown",
      "metadata": {
        "id": "o-8yRZIXzLM6"
      },
      "source": [
        "**Working with PDF Files**"
      ]
    },
    {
      "cell_type": "code",
      "metadata": {
        "colab": {
          "base_uri": "https://localhost:8080/"
        },
        "id": "JOoZGiNie87M",
        "outputId": "93d2f470-7f53-45ad-fa56-0be1a82f924f"
      },
      "source": [
        "!pip install -q pypdf2"
      ],
      "execution_count": null,
      "outputs": [
        {
          "output_type": "stream",
          "text": [
            "\u001b[?25l\r\u001b[K     |████▎                           | 10kB 18.3MB/s eta 0:00:01\r\u001b[K     |████████▌                       | 20kB 21.9MB/s eta 0:00:01\r\u001b[K     |████████████▊                   | 30kB 16.7MB/s eta 0:00:01\r\u001b[K     |█████████████████               | 40kB 14.8MB/s eta 0:00:01\r\u001b[K     |█████████████████████▏          | 51kB 8.0MB/s eta 0:00:01\r\u001b[K     |█████████████████████████▍      | 61kB 9.3MB/s eta 0:00:01\r\u001b[K     |█████████████████████████████▋  | 71kB 7.8MB/s eta 0:00:01\r\u001b[K     |████████████████████████████████| 81kB 5.0MB/s \n",
            "\u001b[?25h  Building wheel for pypdf2 (setup.py) ... \u001b[?25l\u001b[?25hdone\n"
          ],
          "name": "stdout"
        }
      ]
    },
    {
      "cell_type": "code",
      "metadata": {
        "id": "pZYcopm8zFf2"
      },
      "source": [
        "import PyPDF2"
      ],
      "execution_count": null,
      "outputs": []
    },
    {
      "cell_type": "code",
      "metadata": {
        "id": "xKU7yJOTe9Rz"
      },
      "source": [
        "myfile = open('/content/US_Declaration.pdf','rb')"
      ],
      "execution_count": null,
      "outputs": []
    },
    {
      "cell_type": "code",
      "metadata": {
        "id": "ockLsf9yfPyg"
      },
      "source": [
        "pdf_reader = PyPDF2.PdfFileReader(myfile)"
      ],
      "execution_count": null,
      "outputs": []
    },
    {
      "cell_type": "code",
      "metadata": {
        "colab": {
          "base_uri": "https://localhost:8080/"
        },
        "id": "bmc5f-exfW8-",
        "outputId": "daa565af-5df3-43f6-c2e4-ad658ab01616"
      },
      "source": [
        "pdf_reader.numPages"
      ],
      "execution_count": null,
      "outputs": [
        {
          "output_type": "execute_result",
          "data": {
            "text/plain": [
              "5"
            ]
          },
          "metadata": {
            "tags": []
          },
          "execution_count": 30
        }
      ]
    },
    {
      "cell_type": "code",
      "metadata": {
        "id": "Jd-sgoMzfmEz"
      },
      "source": [
        "page_one = pdf_reader.getPage(0)  "
      ],
      "execution_count": null,
      "outputs": []
    },
    {
      "cell_type": "code",
      "metadata": {
        "id": "WXQQNbyOfrk1"
      },
      "source": [
        "myText = page_one.extractText()"
      ],
      "execution_count": null,
      "outputs": []
    },
    {
      "cell_type": "code",
      "metadata": {
        "id": "iLV4zcBjftwo"
      },
      "source": [
        "myfile.close()"
      ],
      "execution_count": null,
      "outputs": []
    },
    {
      "cell_type": "code",
      "metadata": {
        "id": "VkYeurRHf6dG"
      },
      "source": [
        "#add page to pdf\n",
        "f = open('/content/US_Declaration.pdf','rb')\n",
        "pdf_reader = PyPDF2.PdfFileReader(f)\n",
        "first_page = pdf_reader.getPage(0)\n",
        "pdf_writer = PyPDF2.PdfFileWriter()\n",
        "pdf_writer.addPage(first_page)"
      ],
      "execution_count": null,
      "outputs": []
    },
    {
      "cell_type": "code",
      "metadata": {
        "id": "BUzzCsaFglEh"
      },
      "source": [
        "pdf_output = open('/content/MY_BRAND_NEW_FILE','wb')\n",
        "pdf_writer.write(pdf_output)\n",
        "pdf_output.close()"
      ],
      "execution_count": null,
      "outputs": []
    },
    {
      "cell_type": "code",
      "metadata": {
        "id": "u9EgAQlfhSGd"
      },
      "source": [
        "f.close()"
      ],
      "execution_count": null,
      "outputs": []
    },
    {
      "cell_type": "markdown",
      "metadata": {
        "id": "unLqUqFWjgdb"
      },
      "source": [
        "**Regular Expressions**"
      ]
    },
    {
      "cell_type": "code",
      "metadata": {
        "id": "o97My6EUhYEn"
      },
      "source": [
        ""
      ],
      "execution_count": null,
      "outputs": []
    }
  ]
}